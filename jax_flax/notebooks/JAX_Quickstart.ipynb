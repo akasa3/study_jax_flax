{
 "cells": [
  {
   "cell_type": "markdown",
   "id": "176af8d1-7795-46e0-9b26-0fa3cbcd80c6",
   "metadata": {},
   "source": [
    "# JAX Quickstart\n",
    "https://jax.readthedocs.io/en/latest/notebooks/quickstart.html をなぞるだけ"
   ]
  },
  {
   "cell_type": "markdown",
   "id": "1a776458-c133-418d-a937-dc8d185c7145",
   "metadata": {},
   "source": [
    "## Multiplying Matrices"
   ]
  },
  {
   "cell_type": "code",
   "execution_count": 1,
   "id": "2f56d175-66a2-4ed3-9003-346f2da42c49",
   "metadata": {},
   "outputs": [],
   "source": [
    "import jax.numpy as jnp\n",
    "from jax import grad, jit, vmap\n",
    "from jax import random"
   ]
  },
  {
   "cell_type": "code",
   "execution_count": 2,
   "id": "eec1383a-7616-4ab1-9987-80653b909291",
   "metadata": {},
   "outputs": [
    {
     "name": "stdout",
     "output_type": "stream",
     "text": [
      "[-0.3721109   0.26423115 -0.18252768 -0.7368197  -0.44030377 -0.1521442\n",
      " -0.67135346 -0.5908641   0.73168886  0.5673026 ]\n"
     ]
    }
   ],
   "source": [
    "key = random.PRNGKey(0)\n",
    "x = random.normal(key, (10, ))\n",
    "print(x)"
   ]
  },
  {
   "cell_type": "code",
   "execution_count": 4,
   "id": "fb8700c6-6aa8-4466-9046-688572c1f5dc",
   "metadata": {},
   "outputs": [
    {
     "name": "stdout",
     "output_type": "stream",
     "text": [
      "3.36 ms ± 17.4 µs per loop (mean ± std. dev. of 7 runs, 100 loops each)\n"
     ]
    }
   ],
   "source": [
    "size = 3000\n",
    "x = random.normal(key, (size, size), dtype=jnp.float32)\n",
    "%timeit jnp.dot(x, x.T).block_until_ready()"
   ]
  },
  {
   "cell_type": "markdown",
   "id": "5d4f610c-c868-4344-844e-28d1acaabb16",
   "metadata": {},
   "source": [
    "JAX は numpy array をそのまま使用することもできるが，毎回GPUに移すので処理が遅くなるらしい"
   ]
  },
  {
   "cell_type": "code",
   "execution_count": 5,
   "id": "01cb9106-49f7-46fd-accd-4e6eb4cc6090",
   "metadata": {},
   "outputs": [
    {
     "name": "stdout",
     "output_type": "stream",
     "text": [
      "14.2 ms ± 498 µs per loop (mean ± std. dev. of 7 runs, 100 loops each)\n"
     ]
    }
   ],
   "source": [
    "import numpy as np\n",
    "x = np.random.normal(size=(size, size)).astype(np.float32)\n",
    "%timeit jnp.dot(x, x.T).block_until_ready()"
   ]
  },
  {
   "cell_type": "markdown",
   "id": "7f378ae3-3e7c-460d-8621-b6b65c03c5fc",
   "metadata": {},
   "source": [
    "`device_put(x)` (`to(device)`みたいなもの？)することで明示的にGPUに移すことができる"
   ]
  },
  {
   "cell_type": "code",
   "execution_count": 6,
   "id": "e413ae3c-b56c-44ef-a760-1adadb85cba4",
   "metadata": {},
   "outputs": [
    {
     "name": "stdout",
     "output_type": "stream",
     "text": [
      "3.3 ms ± 43.4 µs per loop (mean ± std. dev. of 7 runs, 100 loops each)\n"
     ]
    }
   ],
   "source": [
    "from jax import device_put\n",
    "\n",
    "x = np.random.normal(size=(size, size)).astype(np.float32)\n",
    "x = device_put(x)\n",
    "%timeit jnp.dot(x, x.T).block_until_ready()"
   ]
  },
  {
   "cell_type": "markdown",
   "id": "35fc0334-4e93-4ffd-88f5-7c732776d829",
   "metadata": {},
   "source": [
    "JAX は単にGPUを利用したNumPyではなく，いくつか便利なコードをもっている．主には `jit()`: コードのスピードアップ, `grad()`: 微分, `vmap`: 自動ベクタライズやバッチ処理"
   ]
  },
  {
   "cell_type": "markdown",
   "id": "6c71c99f-7f6e-4d1c-b9e8-ff10daab1dbe",
   "metadata": {},
   "source": [
    "## Using `jit()` to speed up functions\n",
    "`@jit` デコレータによりまとまった処理をXLAを用いていコンパイルすることが可能"
   ]
  },
  {
   "cell_type": "code",
   "execution_count": 7,
   "id": "9c428242-a8fd-45af-9102-899149547212",
   "metadata": {},
   "outputs": [
    {
     "name": "stdout",
     "output_type": "stream",
     "text": [
      "431 µs ± 6.68 µs per loop (mean ± std. dev. of 7 runs, 1,000 loops each)\n"
     ]
    }
   ],
   "source": [
    "def selu(x, alpha=1.67, lmbda=1.05):\n",
    "    return lmbda * jnp.where(x > 0, x, alpha * jnp.exp(x) - alpha)\n",
    "\n",
    "x = random.normal(key, (1000000,))\n",
    "%timeit selu(x).block_until_ready()"
   ]
  },
  {
   "cell_type": "code",
   "execution_count": 9,
   "id": "957ecad1-a7e8-4b2f-801d-9e756deecdb2",
   "metadata": {},
   "outputs": [
    {
     "name": "stdout",
     "output_type": "stream",
     "text": [
      "34.8 µs ± 2.96 µs per loop (mean ± std. dev. of 7 runs, 10,000 loops each)\n"
     ]
    }
   ],
   "source": [
    "selu_jit = jit(selu)\n",
    "%timeit selu_jit(x).block_until_ready()"
   ]
  },
  {
   "cell_type": "markdown",
   "id": "56422137-4bfe-4085-b254-bfdd64bbcf9e",
   "metadata": {},
   "source": [
    "## Taking derivatives with `grad()`\n",
    "`grad()`によって自動微分が可能"
   ]
  },
  {
   "cell_type": "code",
   "execution_count": 10,
   "id": "8dde3c60-dc8b-4871-854a-699d7bc0d34a",
   "metadata": {},
   "outputs": [
    {
     "name": "stdout",
     "output_type": "stream",
     "text": [
      "[0.25       0.19661194 0.10499357]\n"
     ]
    }
   ],
   "source": [
    "def sum_logistic(x):\n",
    "    return jnp.sum(1.0 / (1.0 + jnp.exp(-x)))\n",
    "\n",
    "x_small = jnp.arange(3.)\n",
    "derivative_fn = grad(sum_logistic)\n",
    "print(derivative_fn(x_small))"
   ]
  },
  {
   "cell_type": "code",
   "execution_count": 12,
   "id": "7e1f939e-56eb-44df-925d-c7bf615110f2",
   "metadata": {},
   "outputs": [
    {
     "name": "stdout",
     "output_type": "stream",
     "text": [
      "[0.24998187 0.1965761  0.10502338]\n"
     ]
    }
   ],
   "source": [
    "def first_finite_defferences(f, x):\n",
    "    eps = 1e-3\n",
    "    return jnp.array([(f(x + eps * v) - f(x - eps * v)) / (2 * eps)\n",
    "                      for v in jnp.eye(len(x))])\n",
    "\n",
    "print(first_finite_defferences(sum_logistic, x_small))"
   ]
  },
  {
   "cell_type": "code",
   "execution_count": 13,
   "id": "f850f511-ba60-4646-9a62-08a2a3ee3830",
   "metadata": {},
   "outputs": [
    {
     "name": "stdout",
     "output_type": "stream",
     "text": [
      "-0.0353256\n"
     ]
    }
   ],
   "source": [
    "print(grad(jit(grad(jit(grad(sum_logistic)))))(1.0))"
   ]
  },
  {
   "cell_type": "markdown",
   "id": "655bd34a-d5b8-4f1a-9cfc-af95591f2064",
   "metadata": {},
   "source": [
    "## Auto-vectorization with `vmap()`"
   ]
  },
  {
   "cell_type": "code",
   "execution_count": 15,
   "id": "bd73bbbd-50b4-40fe-a831-42113ae4efa7",
   "metadata": {},
   "outputs": [],
   "source": [
    "mat = random.normal(key, (150, 100))\n",
    "batched_x = random.normal(key, (10, 100))\n",
    "\n",
    "def apply_matrix(v):\n",
    "    return jnp.dot(mat, v)"
   ]
  },
  {
   "cell_type": "markdown",
   "id": "e1c8647f-1935-4279-839a-1cead24c0f21",
   "metadata": {},
   "source": [
    "各バッチに対してループで処理すると時間がかかる"
   ]
  },
  {
   "cell_type": "code",
   "execution_count": 17,
   "id": "4a0012b7-9eb2-4861-b532-db187dcf97c2",
   "metadata": {},
   "outputs": [
    {
     "name": "stdout",
     "output_type": "stream",
     "text": [
      "Naively batched\n",
      "1.51 ms ± 7.82 µs per loop (mean ± std. dev. of 7 runs, 1,000 loops each)\n"
     ]
    }
   ],
   "source": [
    "def naively_batched_apply_matrix(v_batched):\n",
    "    return jnp.stack([apply_matrix(v) for v in v_batched])\n",
    "\n",
    "print('Naively batched')\n",
    "%timeit naively_batched_apply_matrix(batched_x).block_until_ready()"
   ]
  },
  {
   "cell_type": "markdown",
   "id": "6dd83f1a-87b0-4275-93c0-3548b0b9823a",
   "metadata": {},
   "source": [
    "`@jit`により手動でループ処理を書き処理をベルトル化することで高速"
   ]
  },
  {
   "cell_type": "code",
   "execution_count": 20,
   "id": "4b2567f0-b5d3-4f40-bd46-42f28e403960",
   "metadata": {},
   "outputs": [
    {
     "name": "stdout",
     "output_type": "stream",
     "text": [
      "Manually batched\n",
      "26.3 µs ± 122 ns per loop (mean ± std. dev. of 7 runs, 10,000 loops each)\n"
     ]
    }
   ],
   "source": [
    "@jit\n",
    "def batched_apply_matrix(v_batched):\n",
    "    return jnp.dot(v_batched, mat.T)\n",
    "\n",
    "print('Manually batched')\n",
    "%timeit batched_apply_matrix(batched_x).block_until_ready()"
   ]
  },
  {
   "cell_type": "markdown",
   "id": "1e577a3b-7fb4-4f26-97a6-fe912a972dab",
   "metadata": {},
   "source": [
    "`vmap()`を使用することで，バッチ処理をサポートしていない処理に対して自動でバッチ処理サポートを対応させることが可能"
   ]
  },
  {
   "cell_type": "code",
   "execution_count": 21,
   "id": "84a66d71-214d-4532-b23b-8f3114821978",
   "metadata": {},
   "outputs": [
    {
     "name": "stdout",
     "output_type": "stream",
     "text": [
      "Auto-vectorized with vmap\n",
      "26.1 µs ± 172 ns per loop (mean ± std. dev. of 7 runs, 10,000 loops each)\n"
     ]
    }
   ],
   "source": [
    "@jit\n",
    "def vmap_batched_apply_matrix(v_batched):\n",
    "    return vmap(apply_matrix)(v_batched)\n",
    "\n",
    "print('Auto-vectorized with vmap')\n",
    "%timeit vmap_batched_apply_matrix(batched_x).block_until_ready()"
   ]
  },
  {
   "cell_type": "code",
   "execution_count": null,
   "id": "80e9481e-ba79-4463-9683-f042d1209239",
   "metadata": {},
   "outputs": [],
   "source": []
  }
 ],
 "metadata": {
  "kernelspec": {
   "display_name": "Python 3 (ipykernel)",
   "language": "python",
   "name": "python3"
  },
  "language_info": {
   "codemirror_mode": {
    "name": "ipython",
    "version": 3
   },
   "file_extension": ".py",
   "mimetype": "text/x-python",
   "name": "python",
   "nbconvert_exporter": "python",
   "pygments_lexer": "ipython3",
   "version": "3.9.13"
  }
 },
 "nbformat": 4,
 "nbformat_minor": 5
}
