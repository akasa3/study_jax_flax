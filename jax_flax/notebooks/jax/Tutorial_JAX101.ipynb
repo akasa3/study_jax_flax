{
 "cells": [
  {
   "cell_type": "markdown",
   "id": "a3e2d43e-4ed1-4730-ba4e-50033c5f190c",
   "metadata": {},
   "source": [
    "# Tutorial: JAX 101\n",
    "https://jax.readthedocs.io/en/latest/jax-101/index.html"
   ]
  },
  {
   "cell_type": "markdown",
   "id": "9dbf5ed5-e946-4192-8a39-14bda57f3c25",
   "metadata": {},
   "source": [
    "## JAX As Accelerated NumPy"
   ]
  },
  {
   "cell_type": "markdown",
   "id": "5c8686f4",
   "metadata": {},
   "source": [
    "### Getting started with JAX numpy"
   ]
  },
  {
   "cell_type": "code",
   "execution_count": 1,
   "id": "7a19c89e-2465-454e-9817-55f786744c83",
   "metadata": {},
   "outputs": [
    {
     "name": "stdout",
     "output_type": "stream",
     "text": [
      "[0 1 2 3 4 5 6 7 8 9]\n"
     ]
    }
   ],
   "source": [
    "import jax\n",
    "import jax.numpy as jnp\n",
    "\n",
    "x = jnp.arange(10)\n",
    "print(x)"
   ]
  },
  {
   "cell_type": "code",
   "execution_count": 2,
   "id": "d4ff6f0d",
   "metadata": {},
   "outputs": [
    {
     "data": {
      "text/plain": [
       "DeviceArray([0, 1, 2, 3, 4, 5, 6, 7, 8, 9], dtype=int32)"
      ]
     },
     "execution_count": 2,
     "metadata": {},
     "output_type": "execute_result"
    }
   ],
   "source": [
    "x"
   ]
  },
  {
   "cell_type": "markdown",
   "id": "2991d1e4",
   "metadata": {},
   "source": [
    "JAX はCPU,GPU,TPUと異なるバックエンドでの実行を同じコードで実現できる"
   ]
  },
  {
   "cell_type": "code",
   "execution_count": 4,
   "id": "f3d0b7a8",
   "metadata": {},
   "outputs": [
    {
     "name": "stdout",
     "output_type": "stream",
     "text": [
      "97.1 µs ± 221 ns per loop (mean ± std. dev. of 7 runs, 10,000 loops each)\n"
     ]
    }
   ],
   "source": [
    "long_vector = jnp.arange(int(1e7))\n",
    "\n",
    "%timeit jnp.dot(long_vector, long_vector).block_until_ready()"
   ]
  },
  {
   "cell_type": "code",
   "execution_count": 5,
   "id": "3f093ec1",
   "metadata": {},
   "outputs": [
    {
     "name": "stdout",
     "output_type": "stream",
     "text": [
      "5.91 ms ± 20.2 µs per loop (mean ± std. dev. of 7 runs, 100 loops each)\n"
     ]
    }
   ],
   "source": [
    "import numpy as np\n",
    "\n",
    "long_vector = np.arange(int(1e7))\n",
    "%timeit np.dot(long_vector, long_vector)"
   ]
  },
  {
   "cell_type": "markdown",
   "id": "29f84abb",
   "metadata": {},
   "source": [
    "### JAX first transformation: `grad`"
   ]
  },
  {
   "cell_type": "code",
   "execution_count": 8,
   "id": "0dbd74d4",
   "metadata": {},
   "outputs": [],
   "source": [
    "def sum_of_squares(x):\n",
    "    '''\n",
    "    f = x^2\n",
    "    f' = 2x\n",
    "    '''\n",
    "    return jnp.sum(x ** 2)"
   ]
  },
  {
   "cell_type": "code",
   "execution_count": 7,
   "id": "b7dba499",
   "metadata": {},
   "outputs": [
    {
     "name": "stdout",
     "output_type": "stream",
     "text": [
      "30.0\n",
      "[2. 4. 6. 8.]\n"
     ]
    }
   ],
   "source": [
    "sum_of_squares_dx = jax.grad(sum_of_squares)\n",
    "\n",
    "x = jnp.asarray([1.0, 2.0, 3.0, 4.0])\n",
    "\n",
    "print(sum_of_squares(x))\n",
    "print(sum_of_squares_dx(x))"
   ]
  },
  {
   "cell_type": "code",
   "execution_count": 11,
   "id": "ba21f228",
   "metadata": {},
   "outputs": [
    {
     "name": "stdout",
     "output_type": "stream",
     "text": [
      "[-0.20000005 -0.19999981 -0.19999981 -0.19999981]\n"
     ]
    }
   ],
   "source": [
    "def sum_squared_error(x, y):\n",
    "    return jnp.sum((x - y) ** 2)\n",
    "\n",
    "sum_squared_error_dx = jax.grad(sum_squared_error)\n",
    "\n",
    "y = jnp.asarray([1.1, 2.1, 3.1, 4.1])\n",
    "print(sum_squared_error_dx(x, y))"
   ]
  },
  {
   "cell_type": "markdown",
   "id": "c127b755",
   "metadata": {},
   "source": [
    "`grad()` の `argnums` で引数の番号を指定することで，対応した偏微分を求めることができる"
   ]
  },
  {
   "cell_type": "code",
   "execution_count": 13,
   "id": "eaa9ca79",
   "metadata": {},
   "outputs": [
    {
     "name": "stdout",
     "output_type": "stream",
     "text": [
      "[-0.20000005 -0.19999981 -0.19999981 -0.19999981]\n",
      "[0.20000005 0.19999981 0.19999981 0.19999981]\n",
      "(DeviceArray([-0.20000005, -0.19999981, -0.19999981, -0.19999981], dtype=float32), DeviceArray([0.20000005, 0.19999981, 0.19999981, 0.19999981], dtype=float32))\n"
     ]
    }
   ],
   "source": [
    "print(jax.grad(sum_squared_error, argnums=(0))(x,y))\n",
    "print(jax.grad(sum_squared_error, argnums=(1))(x, y))\n",
    "print(jax.grad(sum_squared_error, argnums=(0, 1))(x, y))"
   ]
  },
  {
   "cell_type": "markdown",
   "id": "872f4cb7",
   "metadata": {},
   "source": [
    "### Value and Grad\n",
    "値と勾配を両方取得する方法\n",
    "\n",
    "f(x) と jax.grad(f)(x) の値が返ってくる"
   ]
  },
  {
   "cell_type": "code",
   "execution_count": 14,
   "id": "d7dca32f",
   "metadata": {},
   "outputs": [
    {
     "data": {
      "text/plain": [
       "(DeviceArray(0.03999995, dtype=float32),\n",
       " DeviceArray([-0.20000005, -0.19999981, -0.19999981, -0.19999981], dtype=float32))"
      ]
     },
     "execution_count": 14,
     "metadata": {},
     "output_type": "execute_result"
    }
   ],
   "source": [
    "jax.value_and_grad(sum_squared_error)(x, y)"
   ]
  },
  {
   "cell_type": "markdown",
   "id": "5c88c666",
   "metadata": {},
   "source": [
    "### Auxiliary data\n",
    "例えが loss func の中間出力も取得したい場合，通常の`jax.grad`ではエラーが出るので，引数`hax_aux=True`をつける"
   ]
  },
  {
   "cell_type": "code",
   "execution_count": 15,
   "id": "eeb8da6f",
   "metadata": {},
   "outputs": [],
   "source": [
    "def squared_error_with_aux(x, y):\n",
    "    return sum_squared_error(x, y), x-y"
   ]
  },
  {
   "cell_type": "code",
   "execution_count": 16,
   "id": "215a0d5e",
   "metadata": {},
   "outputs": [
    {
     "ename": "TypeError",
     "evalue": "Gradient only defined for scalar-output functions. Output was (DeviceArray(0.03999995, dtype=float32), DeviceArray([-0.10000002, -0.0999999 , -0.0999999 , -0.0999999 ], dtype=float32)).",
     "output_type": "error",
     "traceback": [
      "\u001b[0;31m---------------------------------------------------------------------------\u001b[0m",
      "\u001b[0;31mTypeError\u001b[0m                                 Traceback (most recent call last)",
      "    \u001b[0;31m[... skipping hidden 1 frame]\u001b[0m\n",
      "File \u001b[0;32m~/.pyenv/versions/3.9.13/lib/python3.9/site-packages/jax/core.py:1163\u001b[0m, in \u001b[0;36mget_aval\u001b[0;34m(x)\u001b[0m\n\u001b[1;32m   1162\u001b[0m \u001b[39melse\u001b[39;00m:\n\u001b[0;32m-> 1163\u001b[0m   \u001b[39mreturn\u001b[39;00m concrete_aval(x)\n",
      "File \u001b[0;32m~/.pyenv/versions/3.9.13/lib/python3.9/site-packages/jax/core.py:1155\u001b[0m, in \u001b[0;36mconcrete_aval\u001b[0;34m(x)\u001b[0m\n\u001b[1;32m   1154\u001b[0m   \u001b[39mreturn\u001b[39;00m concrete_aval(x\u001b[39m.\u001b[39m__jax_array__())\n\u001b[0;32m-> 1155\u001b[0m \u001b[39mraise\u001b[39;00m \u001b[39mTypeError\u001b[39;00m(\u001b[39mf\u001b[39m\u001b[39m\"\u001b[39m\u001b[39mValue \u001b[39m\u001b[39m{\u001b[39;00m\u001b[39mrepr\u001b[39m(x)\u001b[39m}\u001b[39;00m\u001b[39m with type \u001b[39m\u001b[39m{\u001b[39;00m\u001b[39mtype\u001b[39m(x)\u001b[39m}\u001b[39;00m\u001b[39m is not a valid JAX \u001b[39m\u001b[39m\"\u001b[39m\n\u001b[1;32m   1156\u001b[0m                  \u001b[39m\"\u001b[39m\u001b[39mtype\u001b[39m\u001b[39m\"\u001b[39m)\n",
      "\u001b[0;31mTypeError\u001b[0m: Value (DeviceArray(0.03999995, dtype=float32), DeviceArray([-0.10000002, -0.0999999 , -0.0999999 , -0.0999999 ], dtype=float32)) with type <class 'tuple'> is not a valid JAX type",
      "\nThe above exception was the direct cause of the following exception:\n",
      "\u001b[0;31mTypeError\u001b[0m                                 Traceback (most recent call last)",
      "\u001b[1;32mセル19 を /home/ubuntu/jax_flax/jax_flax/notebooks/Tutorial_JAX101.ipynb\u001b[0m in \u001b[0;36m<cell line: 1>\u001b[0;34m()\u001b[0m\n\u001b[0;32m----> <a href='vscode-notebook-cell://attached-container%2B7b22636f6e7461696e65724e616d65223a222f6a61785f666c6178222c2273657474696e6773223a7b22686f7374223a227373683a2f2f3139322e3136382e302e313132227d7d/home/ubuntu/jax_flax/jax_flax/notebooks/Tutorial_JAX101.ipynb#X42sdnNjb2RlLXJlbW90ZQ%3D%3D?line=0'>1</a>\u001b[0m jax\u001b[39m.\u001b[39;49mgrad(squared_error_with_aux)(x, y)\n",
      "    \u001b[0;31m[... skipping hidden 4 frame]\u001b[0m\n",
      "File \u001b[0;32m~/.pyenv/versions/3.9.13/lib/python3.9/site-packages/jax/_src/api.py:1091\u001b[0m, in \u001b[0;36m_check_scalar\u001b[0;34m(x)\u001b[0m\n\u001b[1;32m   1089\u001b[0m   aval \u001b[39m=\u001b[39m core\u001b[39m.\u001b[39mget_aval(x)\n\u001b[1;32m   1090\u001b[0m \u001b[39mexcept\u001b[39;00m \u001b[39mTypeError\u001b[39;00m \u001b[39mas\u001b[39;00m e:\n\u001b[0;32m-> 1091\u001b[0m   \u001b[39mraise\u001b[39;00m \u001b[39mTypeError\u001b[39;00m(msg(\u001b[39mf\u001b[39m\u001b[39m\"\u001b[39m\u001b[39mwas \u001b[39m\u001b[39m{\u001b[39;00mx\u001b[39m}\u001b[39;00m\u001b[39m\"\u001b[39m)) \u001b[39mfrom\u001b[39;00m \u001b[39me\u001b[39;00m\n\u001b[1;32m   1092\u001b[0m \u001b[39melse\u001b[39;00m:\n\u001b[1;32m   1093\u001b[0m   \u001b[39mif\u001b[39;00m \u001b[39misinstance\u001b[39m(aval, ShapedArray):\n",
      "\u001b[0;31mTypeError\u001b[0m: Gradient only defined for scalar-output functions. Output was (DeviceArray(0.03999995, dtype=float32), DeviceArray([-0.10000002, -0.0999999 , -0.0999999 , -0.0999999 ], dtype=float32))."
     ]
    }
   ],
   "source": [
    "jax.grad(squared_error_with_aux)(x, y)"
   ]
  },
  {
   "cell_type": "code",
   "execution_count": 17,
   "id": "d3611f04",
   "metadata": {},
   "outputs": [
    {
     "data": {
      "text/plain": [
       "(DeviceArray([-0.20000005, -0.19999981, -0.19999981, -0.19999981], dtype=float32),\n",
       " DeviceArray([-0.10000002, -0.0999999 , -0.0999999 , -0.0999999 ], dtype=float32))"
      ]
     },
     "execution_count": 17,
     "metadata": {},
     "output_type": "execute_result"
    }
   ],
   "source": [
    "jax.grad(squared_error_with_aux, has_aux=True)(x, y)"
   ]
  },
  {
   "cell_type": "markdown",
   "id": "4592ac59",
   "metadata": {},
   "source": [
    "### Difference from NumPy\n",
    "JAXによる変換を意図した関数では下記のような副作用は避けたほうが良い"
   ]
  },
  {
   "cell_type": "code",
   "execution_count": 18,
   "id": "38ccfa98",
   "metadata": {},
   "outputs": [
    {
     "data": {
      "text/plain": [
       "array([123,   2,   3])"
      ]
     },
     "execution_count": 18,
     "metadata": {},
     "output_type": "execute_result"
    }
   ],
   "source": [
    "x = np.array([1, 2, 3])\n",
    "\n",
    "def in_place_modify(x):\n",
    "    x[0] = 123\n",
    "    return None\n",
    "\n",
    "in_place_modify(x)\n",
    "x"
   ]
  },
  {
   "cell_type": "code",
   "execution_count": 19,
   "id": "2e539ac1",
   "metadata": {},
   "outputs": [
    {
     "ename": "TypeError",
     "evalue": "'<class 'jaxlib.xla_extension.DeviceArray'>' object does not support item assignment. JAX arrays are immutable. Instead of ``x[idx] = y``, use ``x = x.at[idx].set(y)`` or another .at[] method: https://jax.readthedocs.io/en/latest/_autosummary/jax.numpy.ndarray.at.html",
     "output_type": "error",
     "traceback": [
      "\u001b[0;31m---------------------------------------------------------------------------\u001b[0m",
      "\u001b[0;31mTypeError\u001b[0m                                 Traceback (most recent call last)",
      "\u001b[1;32mセル23 を /home/ubuntu/jax_flax/jax_flax/notebooks/Tutorial_JAX101.ipynb\u001b[0m in \u001b[0;36m<cell line: 1>\u001b[0;34m()\u001b[0m\n\u001b[0;32m----> <a href='vscode-notebook-cell://attached-container%2B7b22636f6e7461696e65724e616d65223a222f6a61785f666c6178222c2273657474696e6773223a7b22686f7374223a227373683a2f2f3139322e3136382e302e313132227d7d/home/ubuntu/jax_flax/jax_flax/notebooks/Tutorial_JAX101.ipynb#X51sdnNjb2RlLXJlbW90ZQ%3D%3D?line=0'>1</a>\u001b[0m in_place_modify(jnp\u001b[39m.\u001b[39;49marray(x))\n",
      "\u001b[1;32mセル23 を /home/ubuntu/jax_flax/jax_flax/notebooks/Tutorial_JAX101.ipynb\u001b[0m in \u001b[0;36min_place_modify\u001b[0;34m(x)\u001b[0m\n\u001b[1;32m      <a href='vscode-notebook-cell://attached-container%2B7b22636f6e7461696e65724e616d65223a222f6a61785f666c6178222c2273657474696e6773223a7b22686f7374223a227373683a2f2f3139322e3136382e302e313132227d7d/home/ubuntu/jax_flax/jax_flax/notebooks/Tutorial_JAX101.ipynb#X51sdnNjb2RlLXJlbW90ZQ%3D%3D?line=2'>3</a>\u001b[0m \u001b[39mdef\u001b[39;00m \u001b[39min_place_modify\u001b[39m(x):\n\u001b[0;32m----> <a href='vscode-notebook-cell://attached-container%2B7b22636f6e7461696e65724e616d65223a222f6a61785f666c6178222c2273657474696e6773223a7b22686f7374223a227373683a2f2f3139322e3136382e302e313132227d7d/home/ubuntu/jax_flax/jax_flax/notebooks/Tutorial_JAX101.ipynb#X51sdnNjb2RlLXJlbW90ZQ%3D%3D?line=3'>4</a>\u001b[0m     x[\u001b[39m0\u001b[39;49m] \u001b[39m=\u001b[39m \u001b[39m123\u001b[39m\n\u001b[1;32m      <a href='vscode-notebook-cell://attached-container%2B7b22636f6e7461696e65724e616d65223a222f6a61785f666c6178222c2273657474696e6773223a7b22686f7374223a227373683a2f2f3139322e3136382e302e313132227d7d/home/ubuntu/jax_flax/jax_flax/notebooks/Tutorial_JAX101.ipynb#X51sdnNjb2RlLXJlbW90ZQ%3D%3D?line=4'>5</a>\u001b[0m     \u001b[39mreturn\u001b[39;00m \u001b[39mNone\u001b[39;00m\n",
      "File \u001b[0;32m~/.pyenv/versions/3.9.13/lib/python3.9/site-packages/jax/_src/numpy/lax_numpy.py:4651\u001b[0m, in \u001b[0;36m_unimplemented_setitem\u001b[0;34m(self, i, x)\u001b[0m\n\u001b[1;32m   4646\u001b[0m \u001b[39mdef\u001b[39;00m \u001b[39m_unimplemented_setitem\u001b[39m(\u001b[39mself\u001b[39m, i, x):\n\u001b[1;32m   4647\u001b[0m   msg \u001b[39m=\u001b[39m (\u001b[39m\"\u001b[39m\u001b[39m'\u001b[39m\u001b[39m{}\u001b[39;00m\u001b[39m'\u001b[39m\u001b[39m object does not support item assignment. JAX arrays are \u001b[39m\u001b[39m\"\u001b[39m\n\u001b[1;32m   4648\u001b[0m          \u001b[39m\"\u001b[39m\u001b[39mimmutable. Instead of ``x[idx] = y``, use ``x = x.at[idx].set(y)`` \u001b[39m\u001b[39m\"\u001b[39m\n\u001b[1;32m   4649\u001b[0m          \u001b[39m\"\u001b[39m\u001b[39mor another .at[] method: \u001b[39m\u001b[39m\"\u001b[39m\n\u001b[1;32m   4650\u001b[0m          \u001b[39m\"\u001b[39m\u001b[39mhttps://jax.readthedocs.io/en/latest/_autosummary/jax.numpy.ndarray.at.html\u001b[39m\u001b[39m\"\u001b[39m)\n\u001b[0;32m-> 4651\u001b[0m   \u001b[39mraise\u001b[39;00m \u001b[39mTypeError\u001b[39;00m(msg\u001b[39m.\u001b[39mformat(\u001b[39mtype\u001b[39m(\u001b[39mself\u001b[39m)))\n",
      "\u001b[0;31mTypeError\u001b[0m: '<class 'jaxlib.xla_extension.DeviceArray'>' object does not support item assignment. JAX arrays are immutable. Instead of ``x[idx] = y``, use ``x = x.at[idx].set(y)`` or another .at[] method: https://jax.readthedocs.io/en/latest/_autosummary/jax.numpy.ndarray.at.html"
     ]
    }
   ],
   "source": [
    "in_place_modify(jnp.array(x))"
   ]
  },
  {
   "cell_type": "code",
   "execution_count": 20,
   "id": "eed5649d",
   "metadata": {},
   "outputs": [
    {
     "data": {
      "text/plain": [
       "DeviceArray([123,   2,   3], dtype=int32)"
      ]
     },
     "execution_count": 20,
     "metadata": {},
     "output_type": "execute_result"
    }
   ],
   "source": [
    "def jax_in_place_modify(x):\n",
    "    return x.at[0].set(123)\n",
    "\n",
    "y = jnp.array([1, 2, 3])\n",
    "jax_in_place_modify(y)"
   ]
  },
  {
   "cell_type": "code",
   "execution_count": 21,
   "id": "b51c7cc2",
   "metadata": {},
   "outputs": [
    {
     "data": {
      "text/plain": [
       "DeviceArray([1, 2, 3], dtype=int32)"
      ]
     },
     "execution_count": 21,
     "metadata": {},
     "output_type": "execute_result"
    }
   ],
   "source": [
    "y"
   ]
  },
  {
   "cell_type": "markdown",
   "id": "a9b8bbae",
   "metadata": {},
   "source": [
    "### Your first JAX training loop"
   ]
  },
  {
   "cell_type": "code",
   "execution_count": 23,
   "id": "be097e36",
   "metadata": {},
   "outputs": [
    {
     "data": {
      "image/png": "[encoded data removed]",
      "text/plain": [
       "<Figure size 640x480 with 1 Axes>"
      ]
     },
     "metadata": {},
     "output_type": "display_data"
    }
   ],
   "source": [
    "import matplotlib.pyplot as plt\n",
    "\n",
    "xs = np.random.normal(size=(100, ))\n",
    "noise = np.random.normal(scale=0.1, size=(100, ))\n",
    "ys = xs * 3 - 1 + noise\n",
    "\n",
    "plt.scatter(xs, ys);"
   ]
  },
  {
   "cell_type": "code",
   "execution_count": 24,
   "id": "e8622a1d",
   "metadata": {},
   "outputs": [],
   "source": [
    "def model(theta, x):\n",
    "    '''Computes wx + b on a batch of input x.'''\n",
    "    w, b = theta\n",
    "    return w * x + b"
   ]
  },
  {
   "cell_type": "code",
   "execution_count": 25,
   "id": "e154ba0d",
   "metadata": {},
   "outputs": [],
   "source": [
    "def loss_fn(theta, x, y):\n",
    "    prediction = model(theta, x)\n",
    "    return jnp.mean((prediction - y) ** 2)"
   ]
  },
  {
   "cell_type": "code",
   "execution_count": 26,
   "id": "693a2c27",
   "metadata": {},
   "outputs": [],
   "source": [
    "def update(theta, x, y, lr=0.1):\n",
    "    return theta - lr * jax.grad(loss_fn)(theta, x, y)"
   ]
  },
  {
   "cell_type": "code",
   "execution_count": 27,
   "id": "95071e63",
   "metadata": {},
   "outputs": [
    {
     "name": "stdout",
     "output_type": "stream",
     "text": [
      "w: 3.01, b: -0.99\n"
     ]
    },
    {
     "data": {
      "image/png": "[encoded data removed]",
      "text/plain": [
       "<Figure size 640x480 with 1 Axes>"
      ]
     },
     "metadata": {},
     "output_type": "display_data"
    }
   ],
   "source": [
    "theta = jnp.array([1., 1.])\n",
    "\n",
    "for _ in range(1000):\n",
    "    theta = update(theta, xs, ys)\n",
    "\n",
    "plt.scatter(xs, ys)\n",
    "plt.plot(xs, model(theta, xs))\n",
    "\n",
    "w, b = theta\n",
    "print(f'w: {w:<.2f}, b: {b:<.2f}')"
   ]
  },
  {
   "cell_type": "markdown",
   "id": "833a4cbb",
   "metadata": {},
   "source": [
    "## Just In Time Compilation with JAX\n",
    "JAX がどのように動き，パフォームさせることができるかを見ていく．具体的には，JAX PythonをJITコンパイルし，XLAによって効率的に実行可能とする`jax.jit()`について見ていく．\n",
    "\n",
    "jaxでは，python func を jaxpr と呼ばれる中間言語にコンバートし，これに変換をかける"
   ]
  },
  {
   "cell_type": "code",
   "execution_count": 28,
   "id": "ee071055",
   "metadata": {},
   "outputs": [
    {
     "name": "stdout",
     "output_type": "stream",
     "text": [
      "{ \u001b[34m\u001b[22m\u001b[1mlambda \u001b[39m\u001b[22m\u001b[22m; a\u001b[35m:f32[]\u001b[39m. \u001b[34m\u001b[22m\u001b[1mlet\n",
      "    \u001b[39m\u001b[22m\u001b[22mb\u001b[35m:f32[]\u001b[39m = log a\n",
      "    c\u001b[35m:f32[]\u001b[39m = log 2.0\n",
      "    d\u001b[35m:f32[]\u001b[39m = div b c\n",
      "  \u001b[34m\u001b[22m\u001b[1min \u001b[39m\u001b[22m\u001b[22m(d,) }\n"
     ]
    }
   ],
   "source": [
    "global_list = []\n",
    "def log2(x):\n",
    "    global_list.append(x)\n",
    "    ln_x = jnp.log(x)\n",
    "    ln_2 = jnp.log(2.0)\n",
    "    return ln_x / ln_2\n",
    "\n",
    "print(jax.make_jaxpr(log2)(3.0))"
   ]
  },
  {
   "cell_type": "code",
   "execution_count": 29,
   "id": "494f3d7e",
   "metadata": {},
   "outputs": [
    {
     "name": "stdout",
     "output_type": "stream",
     "text": [
      "printed x: Traced<ShapedArray(float32[], weak_type=True)>with<DynamicJaxprTrace(level=1/0)>\n",
      "{ \u001b[34m\u001b[22m\u001b[1mlambda \u001b[39m\u001b[22m\u001b[22m; a\u001b[35m:f32[]\u001b[39m. \u001b[34m\u001b[22m\u001b[1mlet\n",
      "    \u001b[39m\u001b[22m\u001b[22mb\u001b[35m:f32[]\u001b[39m = log a\n",
      "    c\u001b[35m:f32[]\u001b[39m = log 2.0\n",
      "    d\u001b[35m:f32[]\u001b[39m = div b c\n",
      "  \u001b[34m\u001b[22m\u001b[1min \u001b[39m\u001b[22m\u001b[22m(d,) }\n"
     ]
    }
   ],
   "source": [
    "def log2_with_print(x):\n",
    "    print('printed x:', x)\n",
    "    ln_x = jnp.log(x)\n",
    "    ln_2 = jnp.log(2)\n",
    "    return ln_x / ln_2\n",
    "\n",
    "print(jax.make_jaxpr(log2_with_print)(3.))"
   ]
  },
  {
   "cell_type": "markdown",
   "id": "417e2579",
   "metadata": {},
   "source": [
    "jaxpr は与えられたパラメータに対して実行された過程を捉えるので，関数ないに分岐があったとしても処理された部分だけをトレースする"
   ]
  },
  {
   "cell_type": "code",
   "execution_count": 30,
   "id": "ae7e1052",
   "metadata": {},
   "outputs": [
    {
     "name": "stdout",
     "output_type": "stream",
     "text": [
      "{ \u001b[34m\u001b[22m\u001b[1mlambda \u001b[39m\u001b[22m\u001b[22m; a\u001b[35m:i32[3]\u001b[39m. \u001b[34m\u001b[22m\u001b[1mlet\u001b[39m\u001b[22m\u001b[22m  \u001b[34m\u001b[22m\u001b[1min \u001b[39m\u001b[22m\u001b[22m(a,) }\n"
     ]
    }
   ],
   "source": [
    "def log2_if_rank(x):\n",
    "    if x.ndim == 2:\n",
    "        ln_x = jnp.log(x)\n",
    "        ln_2 = jnp.log(2)\n",
    "        return ln_x / ln_2\n",
    "    else:\n",
    "        return x\n",
    "\n",
    "print(jax.make_jaxpr(log2_if_rank)(jnp.array([1, 2, 3])))"
   ]
  },
  {
   "cell_type": "markdown",
   "id": "31a87c67",
   "metadata": {},
   "source": [
    "### JIT compiling a function\n",
    "下記のコードは実行されるたびにアクセラレータに送られている"
   ]
  },
  {
   "cell_type": "code",
   "execution_count": 31,
   "id": "902c22bc",
   "metadata": {},
   "outputs": [
    {
     "name": "stdout",
     "output_type": "stream",
     "text": [
      "414 µs ± 14.3 µs per loop (mean ± std. dev. of 7 runs, 1,000 loops each)\n"
     ]
    }
   ],
   "source": [
    "def selu(x, alpha=1.67, lambda_=1.05):\n",
    "    return lambda_ * jnp.where(x > 0, x, alpha * jnp.exp(x) - alpha)\n",
    "\n",
    "x = jnp.arange(1000000)\n",
    "%timeit selu(x).block_until_ready()"
   ]
  },
  {
   "cell_type": "code",
   "execution_count": 32,
   "id": "8efe4a5d",
   "metadata": {},
   "outputs": [
    {
     "name": "stdout",
     "output_type": "stream",
     "text": [
      "36.7 µs ± 539 ns per loop (mean ± std. dev. of 7 runs, 10,000 loops each)\n"
     ]
    }
   ],
   "source": [
    "selu_jit = jax.jit(selu)\n",
    "selu_jit(x).block_until_ready()\n",
    "%timeit selu_jit(x).block_until_ready()"
   ]
  },
  {
   "cell_type": "markdown",
   "id": "c3ad0c02",
   "metadata": {},
   "source": [
    "### Why can't we just JIT everything?\n",
    "jit 時には jaxpr がトレースに使用する実際の値に依存するため，トレースされる値の型がコンパイル時に既知である必要がある．下記の場合，トレースされる値を条件分岐に使用しておりこれを満たさない"
   ]
  },
  {
   "cell_type": "code",
   "execution_count": 33,
   "id": "cef78e19",
   "metadata": {},
   "outputs": [
    {
     "ename": "ConcretizationTypeError",
     "evalue": "Abstract tracer value encountered where concrete value is expected: Traced<ShapedArray(bool[], weak_type=True)>with<DynamicJaxprTrace(level=0/1)>\nThe problem arose with the `bool` function. \nThe error occurred while tracing the function f at /tmp/ipykernel_8388/3893949707.py:1 for jit. This concrete value was not available in Python because it depends on the value of the argument 'x'.\n\nSee https://jax.readthedocs.io/en/latest/errors.html#jax.errors.ConcretizationTypeError",
     "output_type": "error",
     "traceback": [
      "\u001b[0;31m---------------------------------------------------------------------------\u001b[0m",
      "\u001b[0;31mConcretizationTypeError\u001b[0m                   Traceback (most recent call last)",
      "\u001b[1;32mセル41 を /home/ubuntu/jax_flax/jax_flax/notebooks/Tutorial_JAX101.ipynb\u001b[0m in \u001b[0;36m<cell line: 8>\u001b[0;34m()\u001b[0m\n\u001b[1;32m      <a href='vscode-notebook-cell://attached-container%2B7b22636f6e7461696e65724e616d65223a222f6a61785f666c6178222c2273657474696e6773223a7b22686f7374223a227373683a2f2f3139322e3136382e302e313132227d7d/home/ubuntu/jax_flax/jax_flax/notebooks/Tutorial_JAX101.ipynb#Y120sdnNjb2RlLXJlbW90ZQ%3D%3D?line=4'>5</a>\u001b[0m         \u001b[39mreturn\u001b[39;00m \u001b[39m2\u001b[39m \u001b[39m*\u001b[39m x\n\u001b[1;32m      <a href='vscode-notebook-cell://attached-container%2B7b22636f6e7461696e65724e616d65223a222f6a61785f666c6178222c2273657474696e6773223a7b22686f7374223a227373683a2f2f3139322e3136382e302e313132227d7d/home/ubuntu/jax_flax/jax_flax/notebooks/Tutorial_JAX101.ipynb#Y120sdnNjb2RlLXJlbW90ZQ%3D%3D?line=6'>7</a>\u001b[0m f_jit \u001b[39m=\u001b[39m jax\u001b[39m.\u001b[39mjit(f)\n\u001b[0;32m----> <a href='vscode-notebook-cell://attached-container%2B7b22636f6e7461696e65724e616d65223a222f6a61785f666c6178222c2273657474696e6773223a7b22686f7374223a227373683a2f2f3139322e3136382e302e313132227d7d/home/ubuntu/jax_flax/jax_flax/notebooks/Tutorial_JAX101.ipynb#Y120sdnNjb2RlLXJlbW90ZQ%3D%3D?line=7'>8</a>\u001b[0m f_jit(\u001b[39m10\u001b[39;49m)\n",
      "    \u001b[0;31m[... skipping hidden 14 frame]\u001b[0m\n",
      "\u001b[1;32mセル41 を /home/ubuntu/jax_flax/jax_flax/notebooks/Tutorial_JAX101.ipynb\u001b[0m in \u001b[0;36mf\u001b[0;34m(x)\u001b[0m\n\u001b[1;32m      <a href='vscode-notebook-cell://attached-container%2B7b22636f6e7461696e65724e616d65223a222f6a61785f666c6178222c2273657474696e6773223a7b22686f7374223a227373683a2f2f3139322e3136382e302e313132227d7d/home/ubuntu/jax_flax/jax_flax/notebooks/Tutorial_JAX101.ipynb#Y120sdnNjb2RlLXJlbW90ZQ%3D%3D?line=0'>1</a>\u001b[0m \u001b[39mdef\u001b[39;00m \u001b[39mf\u001b[39m(x):\n\u001b[0;32m----> <a href='vscode-notebook-cell://attached-container%2B7b22636f6e7461696e65724e616d65223a222f6a61785f666c6178222c2273657474696e6773223a7b22686f7374223a227373683a2f2f3139322e3136382e302e313132227d7d/home/ubuntu/jax_flax/jax_flax/notebooks/Tutorial_JAX101.ipynb#Y120sdnNjb2RlLXJlbW90ZQ%3D%3D?line=1'>2</a>\u001b[0m     \u001b[39mif\u001b[39;00m x \u001b[39m>\u001b[39m \u001b[39m0\u001b[39m:\n\u001b[1;32m      <a href='vscode-notebook-cell://attached-container%2B7b22636f6e7461696e65724e616d65223a222f6a61785f666c6178222c2273657474696e6773223a7b22686f7374223a227373683a2f2f3139322e3136382e302e313132227d7d/home/ubuntu/jax_flax/jax_flax/notebooks/Tutorial_JAX101.ipynb#Y120sdnNjb2RlLXJlbW90ZQ%3D%3D?line=2'>3</a>\u001b[0m         \u001b[39mreturn\u001b[39;00m x\n\u001b[1;32m      <a href='vscode-notebook-cell://attached-container%2B7b22636f6e7461696e65724e616d65223a222f6a61785f666c6178222c2273657474696e6773223a7b22686f7374223a227373683a2f2f3139322e3136382e302e313132227d7d/home/ubuntu/jax_flax/jax_flax/notebooks/Tutorial_JAX101.ipynb#Y120sdnNjb2RlLXJlbW90ZQ%3D%3D?line=3'>4</a>\u001b[0m     \u001b[39melse\u001b[39;00m:\n",
      "    \u001b[0;31m[... skipping hidden 1 frame]\u001b[0m\n",
      "File \u001b[0;32m~/.pyenv/versions/3.9.13/lib/python3.9/site-packages/jax/core.py:1174\u001b[0m, in \u001b[0;36mconcretization_function_error.<locals>.error\u001b[0;34m(self, arg)\u001b[0m\n\u001b[1;32m   1173\u001b[0m \u001b[39mdef\u001b[39;00m \u001b[39merror\u001b[39m(\u001b[39mself\u001b[39m, arg):\n\u001b[0;32m-> 1174\u001b[0m   \u001b[39mraise\u001b[39;00m ConcretizationTypeError(arg, fname_context)\n",
      "\u001b[0;31mConcretizationTypeError\u001b[0m: Abstract tracer value encountered where concrete value is expected: Traced<ShapedArray(bool[], weak_type=True)>with<DynamicJaxprTrace(level=0/1)>\nThe problem arose with the `bool` function. \nThe error occurred while tracing the function f at /tmp/ipykernel_8388/3893949707.py:1 for jit. This concrete value was not available in Python because it depends on the value of the argument 'x'.\n\nSee https://jax.readthedocs.io/en/latest/errors.html#jax.errors.ConcretizationTypeError"
     ]
    }
   ],
   "source": [
    "def f(x):\n",
    "    if x > 0:\n",
    "        return x\n",
    "    else:\n",
    "        return 2 * x\n",
    "\n",
    "f_jit = jax.jit(f)\n",
    "f_jit(10)"
   ]
  },
  {
   "cell_type": "code",
   "execution_count": 35,
   "id": "b67e8128",
   "metadata": {},
   "outputs": [
    {
     "ename": "ConcretizationTypeError",
     "evalue": "Abstract tracer value encountered where concrete value is expected: Traced<ShapedArray(bool[], weak_type=True)>with<DynamicJaxprTrace(level=0/1)>\nThe problem arose with the `bool` function. \nThe error occurred while tracing the function g at /tmp/ipykernel_8388/3822546354.py:1 for jit. This concrete value was not available in Python because it depends on the value of the argument 'n'.\n\nSee https://jax.readthedocs.io/en/latest/errors.html#jax.errors.ConcretizationTypeError",
     "output_type": "error",
     "traceback": [
      "\u001b[0;31m---------------------------------------------------------------------------\u001b[0m",
      "\u001b[0;31mConcretizationTypeError\u001b[0m                   Traceback (most recent call last)",
      "\u001b[1;32mセル42 を /home/ubuntu/jax_flax/jax_flax/notebooks/Tutorial_JAX101.ipynb\u001b[0m in \u001b[0;36m<cell line: 8>\u001b[0;34m()\u001b[0m\n\u001b[1;32m      <a href='vscode-notebook-cell://attached-container%2B7b22636f6e7461696e65724e616d65223a222f6a61785f666c6178222c2273657474696e6773223a7b22686f7374223a227373683a2f2f3139322e3136382e302e313132227d7d/home/ubuntu/jax_flax/jax_flax/notebooks/Tutorial_JAX101.ipynb#Y121sdnNjb2RlLXJlbW90ZQ%3D%3D?line=4'>5</a>\u001b[0m     \u001b[39mreturn\u001b[39;00m x \u001b[39m+\u001b[39m i\n\u001b[1;32m      <a href='vscode-notebook-cell://attached-container%2B7b22636f6e7461696e65724e616d65223a222f6a61785f666c6178222c2273657474696e6773223a7b22686f7374223a227373683a2f2f3139322e3136382e302e313132227d7d/home/ubuntu/jax_flax/jax_flax/notebooks/Tutorial_JAX101.ipynb#Y121sdnNjb2RlLXJlbW90ZQ%3D%3D?line=6'>7</a>\u001b[0m g_jit \u001b[39m=\u001b[39m jax\u001b[39m.\u001b[39mjit(g)\n\u001b[0;32m----> <a href='vscode-notebook-cell://attached-container%2B7b22636f6e7461696e65724e616d65223a222f6a61785f666c6178222c2273657474696e6773223a7b22686f7374223a227373683a2f2f3139322e3136382e302e313132227d7d/home/ubuntu/jax_flax/jax_flax/notebooks/Tutorial_JAX101.ipynb#Y121sdnNjb2RlLXJlbW90ZQ%3D%3D?line=7'>8</a>\u001b[0m g_jit(\u001b[39m10\u001b[39;49m, \u001b[39m20\u001b[39;49m)\n",
      "    \u001b[0;31m[... skipping hidden 14 frame]\u001b[0m\n",
      "\u001b[1;32mセル42 を /home/ubuntu/jax_flax/jax_flax/notebooks/Tutorial_JAX101.ipynb\u001b[0m in \u001b[0;36mg\u001b[0;34m(x, n)\u001b[0m\n\u001b[1;32m      <a href='vscode-notebook-cell://attached-container%2B7b22636f6e7461696e65724e616d65223a222f6a61785f666c6178222c2273657474696e6773223a7b22686f7374223a227373683a2f2f3139322e3136382e302e313132227d7d/home/ubuntu/jax_flax/jax_flax/notebooks/Tutorial_JAX101.ipynb#Y121sdnNjb2RlLXJlbW90ZQ%3D%3D?line=0'>1</a>\u001b[0m \u001b[39mdef\u001b[39;00m \u001b[39mg\u001b[39m(x, n):\n\u001b[1;32m      <a href='vscode-notebook-cell://attached-container%2B7b22636f6e7461696e65724e616d65223a222f6a61785f666c6178222c2273657474696e6773223a7b22686f7374223a227373683a2f2f3139322e3136382e302e313132227d7d/home/ubuntu/jax_flax/jax_flax/notebooks/Tutorial_JAX101.ipynb#Y121sdnNjb2RlLXJlbW90ZQ%3D%3D?line=1'>2</a>\u001b[0m     i \u001b[39m=\u001b[39m \u001b[39m0\u001b[39m\n\u001b[0;32m----> <a href='vscode-notebook-cell://attached-container%2B7b22636f6e7461696e65724e616d65223a222f6a61785f666c6178222c2273657474696e6773223a7b22686f7374223a227373683a2f2f3139322e3136382e302e313132227d7d/home/ubuntu/jax_flax/jax_flax/notebooks/Tutorial_JAX101.ipynb#Y121sdnNjb2RlLXJlbW90ZQ%3D%3D?line=2'>3</a>\u001b[0m     \u001b[39mwhile\u001b[39;00m i \u001b[39m<\u001b[39m n:\n\u001b[1;32m      <a href='vscode-notebook-cell://attached-container%2B7b22636f6e7461696e65724e616d65223a222f6a61785f666c6178222c2273657474696e6773223a7b22686f7374223a227373683a2f2f3139322e3136382e302e313132227d7d/home/ubuntu/jax_flax/jax_flax/notebooks/Tutorial_JAX101.ipynb#Y121sdnNjb2RlLXJlbW90ZQ%3D%3D?line=3'>4</a>\u001b[0m         i \u001b[39m+\u001b[39m\u001b[39m=\u001b[39m \u001b[39m1\u001b[39m\n\u001b[1;32m      <a href='vscode-notebook-cell://attached-container%2B7b22636f6e7461696e65724e616d65223a222f6a61785f666c6178222c2273657474696e6773223a7b22686f7374223a227373683a2f2f3139322e3136382e302e313132227d7d/home/ubuntu/jax_flax/jax_flax/notebooks/Tutorial_JAX101.ipynb#Y121sdnNjb2RlLXJlbW90ZQ%3D%3D?line=4'>5</a>\u001b[0m     \u001b[39mreturn\u001b[39;00m x \u001b[39m+\u001b[39m i\n",
      "    \u001b[0;31m[... skipping hidden 1 frame]\u001b[0m\n",
      "File \u001b[0;32m~/.pyenv/versions/3.9.13/lib/python3.9/site-packages/jax/core.py:1174\u001b[0m, in \u001b[0;36mconcretization_function_error.<locals>.error\u001b[0;34m(self, arg)\u001b[0m\n\u001b[1;32m   1173\u001b[0m \u001b[39mdef\u001b[39;00m \u001b[39merror\u001b[39m(\u001b[39mself\u001b[39m, arg):\n\u001b[0;32m-> 1174\u001b[0m   \u001b[39mraise\u001b[39;00m ConcretizationTypeError(arg, fname_context)\n",
      "\u001b[0;31mConcretizationTypeError\u001b[0m: Abstract tracer value encountered where concrete value is expected: Traced<ShapedArray(bool[], weak_type=True)>with<DynamicJaxprTrace(level=0/1)>\nThe problem arose with the `bool` function. \nThe error occurred while tracing the function g at /tmp/ipykernel_8388/3822546354.py:1 for jit. This concrete value was not available in Python because it depends on the value of the argument 'n'.\n\nSee https://jax.readthedocs.io/en/latest/errors.html#jax.errors.ConcretizationTypeError"
     ]
    }
   ],
   "source": [
    "def g(x, n):\n",
    "    i = 0\n",
    "    while i < n:\n",
    "        i += 1\n",
    "    return x + i\n",
    "\n",
    "g_jit = jax.jit(g)\n",
    "g_jit(10, 20)"
   ]
  },
  {
   "cell_type": "markdown",
   "id": "7cf77cc9",
   "metadata": {},
   "source": [
    "この問題に対処する方法としては，条件分岐を避けるか，`jax.lax.cond` のような制御フロー演算子を使用する．これらが不可能な場合は，関数の一部をjit化することを検討する．例えば，関数の中で最も計算量の多い部分がループの内側にある場合，その部分を切り出してjit化する．"
   ]
  },
  {
   "cell_type": "code",
   "execution_count": 36,
   "id": "68eaf0d8",
   "metadata": {},
   "outputs": [
    {
     "data": {
      "text/plain": [
       "DeviceArray(30, dtype=int32, weak_type=True)"
      ]
     },
     "execution_count": 36,
     "metadata": {},
     "output_type": "execute_result"
    }
   ],
   "source": [
    "@jax.jit\n",
    "def loop_body(prev_i):\n",
    "    return prev_i + 1\n",
    "\n",
    "def g_inner_jitted(x, n):\n",
    "    i = 0\n",
    "    while i < n:\n",
    "        i = loop_body(i)\n",
    "    return x + i\n",
    "\n",
    "g_inner_jitted(10, 20)"
   ]
  },
  {
   "cell_type": "markdown",
   "id": "0f14c6ea",
   "metadata": {},
   "source": [
    "入力の値を条件とする関数をjit化する必要がある場合，`static_argnums` や `static_argnames` を指定し，特定の入力をトレースしないようにすることができる．代償として，得られる jaxpr は柔軟性に欠け，指定する静的入力の新しい値ごとにコンパイルを必要とする"
   ]
  },
  {
   "cell_type": "code",
   "execution_count": 37,
   "id": "d5d9f991",
   "metadata": {},
   "outputs": [
    {
     "name": "stdout",
     "output_type": "stream",
     "text": [
      "10\n"
     ]
    }
   ],
   "source": [
    "f_jit_correct = jax.jit(f, static_argnums=0)\n",
    "print(f_jit_correct(10))"
   ]
  },
  {
   "cell_type": "code",
   "execution_count": 38,
   "id": "517ddb47",
   "metadata": {},
   "outputs": [
    {
     "name": "stdout",
     "output_type": "stream",
     "text": [
      "30\n"
     ]
    }
   ],
   "source": [
    "g_jit_correct = jax.jit(g, static_argnames=['n'])\n",
    "print(g_jit_correct(10, 20))"
   ]
  },
  {
   "cell_type": "code",
   "execution_count": 39,
   "id": "da5b50b0",
   "metadata": {},
   "outputs": [
    {
     "name": "stdout",
     "output_type": "stream",
     "text": [
      "30\n"
     ]
    }
   ],
   "source": [
    "from functools import partial\n",
    "\n",
    "@partial(jax.jit, static_argnames=['n'])\n",
    "def g_jit_decorated(x, n):\n",
    "    i = 0\n",
    "    while i < n:\n",
    "        i += 1\n",
    "    return x + i\n",
    "\n",
    "print(g_jit_decorated(10, 20))"
   ]
  },
  {
   "cell_type": "markdown",
   "id": "f6af9b38",
   "metadata": {},
   "source": [
    "### When to use JIT\n",
    "jitコンパイルのオーバーヘッドがあるため，上記の例はあまりjit コンパイルする価値はない．通常はコンパイルした関数が複雑で，何度も実行する場合に効果がある．これは機械学習では一般的なことで，大規模で複雑なモデルをコンパイルし，それを反復して実行することが多い．理想的には，可能な限り大きな塊，理想的には更新ステップ全体をjitしたい．そうすることでコンパイラが最適化するための最大の自由度を得ることができる．"
   ]
  },
  {
   "cell_type": "code",
   "execution_count": 41,
   "id": "b3f9bc06",
   "metadata": {},
   "outputs": [
    {
     "name": "stdout",
     "output_type": "stream",
     "text": [
      "g gitted:\n",
      "34.5 µs ± 495 ns per loop (mean ± std. dev. of 7 runs, 10,000 loops each)\n",
      "g:\n",
      "798 ns ± 0.54 ns per loop (mean ± std. dev. of 7 runs, 1,000,000 loops each)\n"
     ]
    }
   ],
   "source": [
    "print('g gitted:')\n",
    "%timeit g_jit_correct(10, 20).block_until_ready()\n",
    "\n",
    "print('g:')\n",
    "%timeit g(10, 20)"
   ]
  },
  {
   "cell_type": "markdown",
   "id": "a301cf82",
   "metadata": {},
   "source": [
    "### Caching\n",
    "`jax.jit()`は関数のハッシュに依存しているが，ループの中で`functools.partial`, `lambda` を使用してjitしていると，毎回異なるハッシュ値が生成されるため避けるべきである"
   ]
  },
  {
   "cell_type": "code",
   "execution_count": 42,
   "id": "abb13f43",
   "metadata": {},
   "outputs": [
    {
     "name": "stdout",
     "output_type": "stream",
     "text": [
      "jit called in a loop with partials:\n",
      "164 ms ± 501 µs per loop (mean ± std. dev. of 7 runs, 10 loops each)\n",
      "jit called in a loop with lambdas:\n",
      "163 ms ± 600 µs per loop (mean ± std. dev. of 7 runs, 10 loops each)\n",
      "jit called in a loop with caching:\n",
      "10.3 ms ± 331 µs per loop (mean ± std. dev. of 7 runs, 100 loops each)\n"
     ]
    }
   ],
   "source": [
    "from functools import partial\n",
    "\n",
    "def unjitted_loop_body(prev_i):\n",
    "  return prev_i + 1\n",
    "\n",
    "def g_inner_jitted_partial(x, n):\n",
    "  i = 0\n",
    "  while i < n:\n",
    "    # Don't do this! each time the partial returns\n",
    "    # a function with different hash\n",
    "    i = jax.jit(partial(unjitted_loop_body))(i)\n",
    "  return x + i\n",
    "\n",
    "def g_inner_jitted_lambda(x, n):\n",
    "  i = 0\n",
    "  while i < n:\n",
    "    # Don't do this!, lambda will also return\n",
    "    # a function with a different hash\n",
    "    i = jax.jit(lambda x: unjitted_loop_body(x))(i)\n",
    "  return x + i\n",
    "\n",
    "def g_inner_jitted_normal(x, n):\n",
    "  i = 0\n",
    "  while i < n:\n",
    "    # this is OK, since JAX can find the\n",
    "    # cached, compiled function\n",
    "    i = jax.jit(unjitted_loop_body)(i)\n",
    "  return x + i\n",
    "\n",
    "print(\"jit called in a loop with partials:\")\n",
    "%timeit g_inner_jitted_partial(10, 20).block_until_ready()\n",
    "\n",
    "print(\"jit called in a loop with lambdas:\")\n",
    "%timeit g_inner_jitted_lambda(10, 20).block_until_ready()\n",
    "\n",
    "print(\"jit called in a loop with caching:\")\n",
    "%timeit g_inner_jitted_normal(10, 20).block_until_ready()"
   ]
  },
  {
   "cell_type": "markdown",
   "id": "dda09e47",
   "metadata": {},
   "source": [
    "## Automatic Vectorization in JAX"
   ]
  },
  {
   "cell_type": "markdown",
   "id": "3681de02",
   "metadata": {},
   "source": [
    "### Manual Vectorization"
   ]
  },
  {
   "cell_type": "code",
   "execution_count": 44,
   "id": "eb4ab082",
   "metadata": {},
   "outputs": [
    {
     "data": {
      "text/plain": [
       "DeviceArray([11., 20., 29.], dtype=float32)"
      ]
     },
     "execution_count": 44,
     "metadata": {},
     "output_type": "execute_result"
    }
   ],
   "source": [
    "x = jnp.arange(5)\n",
    "w = jnp.array([2., 3., 4.])\n",
    "\n",
    "def convolve(x, w):\n",
    "    output = []\n",
    "    for i in range(1, len(x)-1):\n",
    "        output.append(jnp.dot(x[i-1:i+2], w))\n",
    "    return jnp.array(output)\n",
    "\n",
    "convolve(x, w)"
   ]
  },
  {
   "cell_type": "markdown",
   "id": "bc4635ea",
   "metadata": {},
   "source": [
    "上記の関数を[x, x]，[w, w]の行列に適用したい場合，愚直な方法としてはバッチごとにループで処理することであるが，これは非効率である"
   ]
  },
  {
   "cell_type": "code",
   "execution_count": 45,
   "id": "d9433a68",
   "metadata": {},
   "outputs": [],
   "source": [
    "xs = jnp.stack([x, x])\n",
    "ws = jnp.stack([w, w])"
   ]
  },
  {
   "cell_type": "code",
   "execution_count": 46,
   "id": "38b93a83",
   "metadata": {},
   "outputs": [
    {
     "data": {
      "text/plain": [
       "DeviceArray([[11., 20., 29.],\n",
       "             [11., 20., 29.]], dtype=float32)"
      ]
     },
     "execution_count": 46,
     "metadata": {},
     "output_type": "execute_result"
    }
   ],
   "source": [
    "def manually_batched_convolve(xs, ws):\n",
    "    output = []\n",
    "    for i in range(xs.shape[0]):\n",
    "        output.append(convolve(xs[i], ws[i]))\n",
    "    return jnp.stack(output)\n",
    "\n",
    "manually_batched_convolve(xs, ws)"
   ]
  },
  {
   "cell_type": "markdown",
   "id": "77ccd573",
   "metadata": {},
   "source": [
    "そのため，下記のように手動でベクトル化すればよいが，こうした書き換えは面倒で，エラーが発生しやすくなる"
   ]
  },
  {
   "cell_type": "code",
   "execution_count": 47,
   "id": "54d6a661",
   "metadata": {},
   "outputs": [
    {
     "data": {
      "text/plain": [
       "DeviceArray([[11., 20., 29.],\n",
       "             [11., 20., 29.]], dtype=float32)"
      ]
     },
     "execution_count": 47,
     "metadata": {},
     "output_type": "execute_result"
    }
   ],
   "source": [
    "def manually_vectorized_convolve(xs, ws):\n",
    "    output = []\n",
    "    for i in range(1, xs.shape[-1] -1):\n",
    "        output.append(jnp.sum(xs[:, i-1:i+2] * ws, axis=1))\n",
    "    return jnp.stack(output, axis=1)\n",
    "\n",
    "manually_vectorized_convolve(xs, ws)"
   ]
  },
  {
   "cell_type": "markdown",
   "id": "42953b0f",
   "metadata": {},
   "source": [
    "### Automatic Vectorization\n",
    "`jax.jit()`と同様に関数をトレースし，各入力の最初にバッチ軸を自動的に追加している．バッチ次元が最初出ない場合は，`in_axes`, `out_axes`引数を追加して明示的に入出力におけるバッチ次元の位置を指定できる"
   ]
  },
  {
   "cell_type": "code",
   "execution_count": 48,
   "id": "cb8900ee",
   "metadata": {},
   "outputs": [
    {
     "data": {
      "text/plain": [
       "DeviceArray([[11., 20., 29.],\n",
       "             [11., 20., 29.]], dtype=float32)"
      ]
     },
     "execution_count": 48,
     "metadata": {},
     "output_type": "execute_result"
    }
   ],
   "source": [
    "auto_batch_convolve = jax.vmap(convolve)\n",
    "auto_batch_convolve(xs, ws)"
   ]
  },
  {
   "cell_type": "code",
   "execution_count": 49,
   "id": "2ee9443f",
   "metadata": {},
   "outputs": [
    {
     "data": {
      "text/plain": [
       "DeviceArray([[11., 11.],\n",
       "             [20., 20.],\n",
       "             [29., 29.]], dtype=float32)"
      ]
     },
     "execution_count": 49,
     "metadata": {},
     "output_type": "execute_result"
    }
   ],
   "source": [
    "auto_batch_convolve_v2 = jax.vmap(convolve, in_axes=1, out_axes=1)\n",
    "xst = jnp.transpose(xs)\n",
    "wst = jnp.transpose(ws)\n",
    "\n",
    "auto_batch_convolve_v2(xst, wst)"
   ]
  },
  {
   "cell_type": "markdown",
   "id": "65c20f05",
   "metadata": {},
   "source": [
    "`jax.vmap()`は引数の1つだけがバッチ処理される場合にも対応している．"
   ]
  },
  {
   "cell_type": "code",
   "execution_count": 50,
   "id": "6c9080f0",
   "metadata": {},
   "outputs": [
    {
     "data": {
      "text/plain": [
       "DeviceArray([[11., 20., 29.],\n",
       "             [11., 20., 29.]], dtype=float32)"
      ]
     },
     "execution_count": 50,
     "metadata": {},
     "output_type": "execute_result"
    }
   ],
   "source": [
    "auto_batch_convolve_v3 = jax.vmap(convolve, in_axes=[0, None])\n",
    "auto_batch_convolve_v3(xs, w)"
   ]
  },
  {
   "cell_type": "markdown",
   "id": "f5e81ba1",
   "metadata": {},
   "source": [
    "### Combining transformations"
   ]
  },
  {
   "cell_type": "code",
   "execution_count": 51,
   "id": "74072fe1",
   "metadata": {},
   "outputs": [
    {
     "data": {
      "text/plain": [
       "DeviceArray([[11., 20., 29.],\n",
       "             [11., 20., 29.]], dtype=float32)"
      ]
     },
     "execution_count": 51,
     "metadata": {},
     "output_type": "execute_result"
    }
   ],
   "source": [
    "jitted_batch_convolve = jax.jit(auto_batch_convolve)\n",
    "jitted_batch_convolve(xs, ws)"
   ]
  },
  {
   "cell_type": "markdown",
   "id": "e239b9ed",
   "metadata": {},
   "source": [
    "## Advanced Automatic Differentiation in JAX\n",
    "勾配計算は現代の機械学習における重要パートである．このセクションでは，自動微分法における高度なトピックを考察する"
   ]
  },
  {
   "cell_type": "code",
   "execution_count": 52,
   "id": "be75132e",
   "metadata": {},
   "outputs": [],
   "source": [
    "f = lambda x: x**3 + 2*x**2 - 3*x + 1\n",
    "dfdx = jax.grad(f)"
   ]
  },
  {
   "cell_type": "code",
   "execution_count": 53,
   "id": "8d7b6928",
   "metadata": {},
   "outputs": [],
   "source": [
    "d2fdx = jax.grad(dfdx)\n",
    "d3fdx = jax.grad(d2fdx)\n",
    "d4fdx = jax.grad(d3fdx)"
   ]
  },
  {
   "cell_type": "code",
   "execution_count": 54,
   "id": "dc2d523d",
   "metadata": {},
   "outputs": [
    {
     "name": "stdout",
     "output_type": "stream",
     "text": [
      "4.0\n",
      "10.0\n",
      "6.0\n",
      "0.0\n"
     ]
    }
   ],
   "source": [
    "print(dfdx(1.))\n",
    "print(d2fdx(1.))\n",
    "print(d3fdx(1.))\n",
    "print(d4fdx(1.))"
   ]
  },
  {
   "cell_type": "markdown",
   "id": "21105c73",
   "metadata": {},
   "source": [
    "多変数の場合，JAXにはヤコビアンを計算するための`jax.jacfwd()`, `jax.jacrev()`を提供している．これらは同じ答えを返すが，状況によりどちらが効率的かは異なる．詳しくは [video about autodiff](https://www.youtube.com/watch?v=wG_nF1awSSY)参照．"
   ]
  },
  {
   "cell_type": "code",
   "execution_count": 55,
   "id": "6fde9e83",
   "metadata": {},
   "outputs": [],
   "source": [
    "def hessian(f):\n",
    "    return jax.jacfwd(jax.grad(f))"
   ]
  },
  {
   "cell_type": "code",
   "execution_count": 56,
   "id": "0d1bf727",
   "metadata": {},
   "outputs": [
    {
     "data": {
      "text/plain": [
       "DeviceArray([[2., 0., 0.],\n",
       "             [0., 2., 0.],\n",
       "             [0., 0., 2.]], dtype=float32)"
      ]
     },
     "execution_count": 56,
     "metadata": {},
     "output_type": "execute_result"
    }
   ],
   "source": [
    "def f(x):\n",
    "    return jnp.dot(x, x)\n",
    "\n",
    "hessian(f)(jnp.array([1., 2., 3.]))"
   ]
  },
  {
   "cell_type": "markdown",
   "id": "7a2b2aa6",
   "metadata": {},
   "source": [
    "ただ，多くの場合でヘッセ行列自体を計算することは非効率で，ヘッセ行列とベクトルの積のような，行列全体を実体化せずに使用するためのTIPsが [The Autodiff Cookbook](https://jax.readthedocs.io/en/latest/notebooks/autodiff_cookbook.html)にある．"
   ]
  },
  {
   "cell_type": "markdown",
   "id": "8b0319a2",
   "metadata": {},
   "source": [
    "### Higher order optimization"
   ]
  },
  {
   "cell_type": "code",
   "execution_count": null,
   "id": "569379ea",
   "metadata": {},
   "outputs": [],
   "source": [
    "def meta_loss_fn(params, data):\n",
    "    grads = jax.grad(loss_fn)(params, data)\n",
    "    return loss_fn(params - lr * grads, data)\n",
    "\n",
    "meta_grads = jax.grad(meta_loss_fn)(params, data)"
   ]
  },
  {
   "cell_type": "markdown",
   "id": "dd71cca5",
   "metadata": {},
   "source": [
    "### Stopping gradients"
   ]
  },
  {
   "cell_type": "code",
   "execution_count": 57,
   "id": "98cacb2b",
   "metadata": {},
   "outputs": [],
   "source": [
    "value_fn = lambda theta, state: jnp.dot(theta, state)\n",
    "theta = jnp.array([0.1, -0.1, 0.])"
   ]
  },
  {
   "cell_type": "code",
   "execution_count": 58,
   "id": "276cd846",
   "metadata": {},
   "outputs": [],
   "source": [
    "s_tm1 = jnp.array([1., 2., -1.])\n",
    "r_t = jnp.array(1.)\n",
    "s_t = jnp.array([2., 1., 0.])"
   ]
  },
  {
   "cell_type": "code",
   "execution_count": 59,
   "id": "1921ffbd",
   "metadata": {},
   "outputs": [
    {
     "data": {
      "text/plain": [
       "DeviceArray([ 2.4, -2.4,  2.4], dtype=float32)"
      ]
     },
     "execution_count": 59,
     "metadata": {},
     "output_type": "execute_result"
    }
   ],
   "source": [
    "def td_loss(theta, s_tm1, r_t, s_t):\n",
    "    v_tm1 = value_fn(theta, s_tm1)\n",
    "    target = r_t + value_fn(theta, s_t)\n",
    "    return (target - v_tm1) ** 2\n",
    "\n",
    "td_update = jax.grad(td_loss)\n",
    "delta_theta = td_update(theta, s_tm1, r_t, s_t)\n",
    "\n",
    "delta_theta"
   ]
  },
  {
   "cell_type": "code",
   "execution_count": 60,
   "id": "713c5b4e",
   "metadata": {},
   "outputs": [
    {
     "data": {
      "text/plain": [
       "DeviceArray([-2.4, -4.8,  2.4], dtype=float32)"
      ]
     },
     "execution_count": 60,
     "metadata": {},
     "output_type": "execute_result"
    }
   ],
   "source": [
    "def td_loss(theta, s_tm1, r_t, s_t):\n",
    "    v_tm1 = value_fn(theta, s_tm1)\n",
    "    target = r_t + value_fn(theta, s_t)\n",
    "    return (jax.lax.stop_gradient(target) - v_tm1) ** 2\n",
    "\n",
    "td_update = jax.grad(td_loss)\n",
    "delta_theta = td_update(theta, s_tm1, r_t, s_t)\n",
    "delta_theta"
   ]
  },
  {
   "cell_type": "markdown",
   "id": "5e5a1b83",
   "metadata": {},
   "source": [
    "`jax.lax.stop_gradient` は，ある損失からの勾配がニューラルネットワークのパラメータの一部にだけ影響するようにしたい場合 (例えば，他のパラメータは別の損失を使って学習される場合)にも有効"
   ]
  },
  {
   "cell_type": "markdown",
   "id": "02db22c2",
   "metadata": {},
   "source": [
    "### Straight-through estimator using `stop_gradient`\n",
    "straight-through estimator とは，微分不可能な関数の勾配を定義するためのトリックである．微分不可能な関数fが勾配を求めたい大きな関数の一部として用いられている場合，fが恒等関数であるかのようにするだけでよく，これは`jax.lax.stop_gradient`を使用することで実現できる"
   ]
  },
  {
   "cell_type": "code",
   "execution_count": 62,
   "id": "46c7f703",
   "metadata": {},
   "outputs": [
    {
     "name": "stdout",
     "output_type": "stream",
     "text": [
      "f(x): 3.0\n",
      "straight_through_f(x): 3.0\n",
      "grad(f)(x): 0.0\n",
      "grad(straight_through_f)(x): 1.0\n"
     ]
    }
   ],
   "source": [
    "def f(x):\n",
    "    return jnp.round(x) # non-defferentialbe\n",
    "\n",
    "def straight_through_f(x):\n",
    "    zero = x - jax.lax.stop_gradient(x)\n",
    "    return zero + jax.lax.stop_gradient(f(x))\n",
    "\n",
    "print('f(x):', f(3.2))\n",
    "print('straight_through_f(x):', straight_through_f(3.2))\n",
    "\n",
    "print('grad(f)(x):', jax.grad(f)(3.2))\n",
    "print('grad(straight_through_f)(x):', jax.grad(straight_through_f)(3.2))"
   ]
  },
  {
   "cell_type": "markdown",
   "id": "8aa20d36",
   "metadata": {},
   "source": [
    "### Per-example gradients\n",
    "ほとんどのMLシステムでは，データのバッチから勾配と更新を計算するが，バッチないの特定のサンプルに関する勾配や更新へのアクセスを必要とする場合がある (勾配の大きさに基づいてデータに優先順位をつける，サンプルごとにクリッピングや正規化を適用する場合など)．PyTorch, TFなどの多くのフレームワークでは，ライブラリがバッチ全体の勾配を直接蓄積するため，サンプルごとの勾配計算は容易ではない．サンプルごとに個別の損失を計算し，結果の勾配を集計することは非常に非効率である．JAXではこれを簡単かつ効率的に定義することが可能である．"
   ]
  },
  {
   "cell_type": "code",
   "execution_count": 63,
   "id": "60305934",
   "metadata": {},
   "outputs": [
    {
     "data": {
      "text/plain": [
       "DeviceArray([[-2.4, -4.8,  2.4],\n",
       "             [-2.4, -4.8,  2.4]], dtype=float32)"
      ]
     },
     "execution_count": 63,
     "metadata": {},
     "output_type": "execute_result"
    }
   ],
   "source": [
    "perex_grads = jax.jit(jax.vmap(jax.grad(td_loss), in_axes=(None, 0, 0, 0)))\n",
    "\n",
    "batched_s_tm1 = jnp.stack([s_tm1, s_tm1])\n",
    "batched_r_t = jnp.stack([r_t, r_t])\n",
    "batched_s_t = jnp.stack([s_t, s_t])\n",
    "\n",
    "perex_grads(theta, batched_s_tm1, batched_r_t, batched_s_t)"
   ]
  },
  {
   "cell_type": "code",
   "execution_count": null,
   "id": "878e40fb",
   "metadata": {},
   "outputs": [],
   "source": []
  }
 ],
 "metadata": {
  "kernelspec": {
   "display_name": "Python 3.9.13 64-bit ('3.9.13')",
   "language": "python",
   "name": "python3"
  },
  "language_info": {
   "codemirror_mode": {
    "name": "ipython",
    "version": 3
   },
   "file_extension": ".py",
   "mimetype": "text/x-python",
   "name": "python",
   "nbconvert_exporter": "python",
   "pygments_lexer": "ipython3",
   "version": "3.9.13"
  },
  "vscode": {
   "interpreter": {
    "hash": "0274f19de90e75d0030915c9204ef0c9b6e3c2e4dc43f915a5e0d173d93093ce"
   }
  }
 },
 "nbformat": 4,
 "nbformat_minor": 5
}
