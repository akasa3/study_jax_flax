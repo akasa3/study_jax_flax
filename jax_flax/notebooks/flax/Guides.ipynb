{
 "cells": [
  {
   "cell_type": "markdown",
   "id": "8cfc9fcf-fc53-4b70-8de5-61e49b334668",
   "metadata": {},
   "source": [
    "# Guides\n",
    "https://flax.readthedocs.io/en/latest/guides/index.html"
   ]
  },
  {
   "cell_type": "markdown",
   "id": "21131328-3af3-4af5-96fa-eb4b986e6a3e",
   "metadata": {},
   "source": [
    "## JAX for the Impatient\n",
    "### Managing randomness"
   ]
  },
  {
   "cell_type": "code",
   "execution_count": 6,
   "id": "b7258974-7780-4ab2-a3d6-b5e4baaa4d3b",
   "metadata": {},
   "outputs": [],
   "source": [
    "import jax\n",
    "from jax import numpy as jnp"
   ]
  },
  {
   "cell_type": "code",
   "execution_count": 2,
   "id": "211ba3a6-5d98-46b7-93f3-705f997af526",
   "metadata": {},
   "outputs": [
    {
     "data": {
      "text/plain": [
       "DeviceArray([0, 0], dtype=uint32)"
      ]
     },
     "execution_count": 2,
     "metadata": {},
     "output_type": "execute_result"
    }
   ],
   "source": [
    "key = jax.random.PRNGKey(0)\n",
    "key"
   ]
  },
  {
   "cell_type": "code",
   "execution_count": 3,
   "id": "fef59ef8-1587-4c1c-b574-d93519f9128c",
   "metadata": {},
   "outputs": [
    {
     "name": "stdout",
     "output_type": "stream",
     "text": [
      "key: [0 0] -> [-0.20584226]\n",
      "key: [0 0] -> [-0.20584226]\n",
      "key: [0 0] -> [-0.20584226]\n"
     ]
    }
   ],
   "source": [
    "for _ in range(3):\n",
    "    print(f'key: {key} -> {jax.random.normal(key, (1,))}')"
   ]
  },
  {
   "cell_type": "code",
   "execution_count": 4,
   "id": "ba1d038f-bbdc-4acb-b9d8-a2569b1abc38",
   "metadata": {},
   "outputs": [
    {
     "name": "stdout",
     "output_type": "stream",
     "text": [
      "[4146024105  967050713]\n",
      "[2718843009 1272950319]\n"
     ]
    }
   ],
   "source": [
    "key, subkey = jax.random.split(key)\n",
    "print(key)\n",
    "print(subkey)"
   ]
  },
  {
   "cell_type": "code",
   "execution_count": 5,
   "id": "3b3ea31a-61f7-46f6-8d59-bf930e8df757",
   "metadata": {},
   "outputs": [
    {
     "data": {
      "text/plain": [
       "(DeviceArray([3306097435, 3899823266], dtype=uint32),\n",
       " [DeviceArray([147607341, 367236428], dtype=uint32),\n",
       "  DeviceArray([2280136339, 1907318301], dtype=uint32),\n",
       "  DeviceArray([ 781391491, 1939998335], dtype=uint32)])"
      ]
     },
     "execution_count": 5,
     "metadata": {},
     "output_type": "execute_result"
    }
   ],
   "source": [
    "key, *subkeys = jax.random.split(key, 4)\n",
    "key, subkeys"
   ]
  },
  {
   "cell_type": "markdown",
   "id": "6542f6e2-2a27-4fb8-8a0d-9fbd5b6f77e8",
   "metadata": {},
   "source": [
    "### Refining a bit with pytrees"
   ]
  },
  {
   "cell_type": "code",
   "execution_count": 7,
   "id": "e8ae8c15-dda6-46ed-a5a4-ca8e1089e513",
   "metadata": {},
   "outputs": [
    {
     "data": {
      "text/plain": [
       "[1, {'k1': 4, 'k2': (9, 16)}, 25]"
      ]
     },
     "execution_count": 7,
     "metadata": {},
     "output_type": "execute_result"
    }
   ],
   "source": [
    "t = [1, {'k1': 2, 'k2': (3, 4)}, 5]\n",
    "jax.tree_util.tree_map(lambda x: x*x, t)"
   ]
  },
  {
   "cell_type": "code",
   "execution_count": 10,
   "id": "0f3976d7-9a5f-4d8c-ade6-672bc4ed0945",
   "metadata": {},
   "outputs": [
    {
     "data": {
      "text/plain": [
       "[1, {'k1': 8, 'k2': (27, 64)}, 125]"
      ]
     },
     "execution_count": 10,
     "metadata": {},
     "output_type": "execute_result"
    }
   ],
   "source": [
    "jax.tree_util.tree_map(lambda x: x**3, t)"
   ]
  },
  {
   "cell_type": "code",
   "execution_count": 12,
   "id": "3c66baa2-8fca-4da5-891b-774e42428af7",
   "metadata": {},
   "outputs": [
    {
     "name": "stdout",
     "output_type": "stream",
     "text": [
      "[1, {'k1': 4, 'k2': (9, 16)}, 25]\n",
      "[2, {'k1': 6, 'k2': (12, 20)}, 30]\n"
     ]
    }
   ],
   "source": [
    "t2 = jax.tree_util.tree_map(lambda x: x*x, t)\n",
    "print(t2)\n",
    "\n",
    "print(jax.tree_util.tree_map(lambda x, y: x+y, t, t2))"
   ]
  },
  {
   "cell_type": "markdown",
   "id": "e37bb405-5f32-4370-82ff-92f06f1b5317",
   "metadata": {},
   "source": [
    "## Flax Basics"
   ]
  },
  {
   "cell_type": "code",
   "execution_count": 14,
   "id": "f0559fe9-1777-4b93-8e66-b199f26d425f",
   "metadata": {},
   "outputs": [],
   "source": [
    "from typing import Any, Callable, Sequence\n",
    "from flax.core import freeze, unfreeze\n",
    "from flax import linen as nn"
   ]
  },
  {
   "cell_type": "markdown",
   "id": "56129df8-d689-435a-a9f0-546b9df68035",
   "metadata": {},
   "source": [
    "### Linear regression with Flax"
   ]
  },
  {
   "cell_type": "code",
   "execution_count": 15,
   "id": "2766957d-1570-403b-a6d7-fe63ef82e685",
   "metadata": {},
   "outputs": [],
   "source": [
    "model = nn.Dense(features=5)"
   ]
  },
  {
   "cell_type": "code",
   "execution_count": 16,
   "id": "e87ba33a-2a1f-4ffa-81aa-351370f4e385",
   "metadata": {},
   "outputs": [
    {
     "data": {
      "text/plain": [
       "FrozenDict({\n",
       "    params: {\n",
       "        bias: (5,),\n",
       "        kernel: (10, 5),\n",
       "    },\n",
       "})"
      ]
     },
     "execution_count": 16,
     "metadata": {},
     "output_type": "execute_result"
    }
   ],
   "source": [
    "key1, key2 = jax.random.split(jax.random.PRNGKey(0))\n",
    "x = jax.random.normal(key1, (10, ))\n",
    "params = model.init(key2, x)\n",
    "jax.tree_util.tree_map(lambda x: x.shape, params)"
   ]
  },
  {
   "cell_type": "code",
   "execution_count": 17,
   "id": "fb93fda1-583a-4974-a0cb-f19fff8f0e1c",
   "metadata": {},
   "outputs": [
    {
     "name": "stdout",
     "output_type": "stream",
     "text": [
      "Error FrozenDict is immutable.\n"
     ]
    }
   ],
   "source": [
    "try:\n",
    "    params['new_key'] = jnp.ones((2, 2))\n",
    "except ValueError as e:\n",
    "    print('Error', e)"
   ]
  },
  {
   "cell_type": "code",
   "execution_count": 18,
   "id": "e815802c-878f-40b5-b9de-41b461fe6694",
   "metadata": {},
   "outputs": [
    {
     "data": {
      "text/plain": [
       "DeviceArray([-1.3721197 ,  0.61131513,  0.6442838 ,  2.2192965 ,\n",
       "             -1.1271117 ], dtype=float32)"
      ]
     },
     "execution_count": 18,
     "metadata": {},
     "output_type": "execute_result"
    }
   ],
   "source": [
    "model.apply(params, x)"
   ]
  },
  {
   "cell_type": "code",
   "execution_count": 21,
   "id": "27789673-f566-4902-9f49-ec4232661cb1",
   "metadata": {},
   "outputs": [
    {
     "name": "stdout",
     "output_type": "stream",
     "text": [
      "x_shape: (20, 10) ; y shape: (20, 5)\n"
     ]
    }
   ],
   "source": [
    "n_samples = 20\n",
    "x_dim = 10\n",
    "y_dim = 5\n",
    "\n",
    "key = jax.random.PRNGKey(0)\n",
    "k1, k2 = jax.random.split(key)\n",
    "W = jax.random.normal(k1, (x_dim, y_dim))\n",
    "b = jax.random.normal(k2, (y_dim,))\n",
    "\n",
    "true_params = freeze({'params': {'bias': b, 'kernel': W}})\n",
    "\n",
    "key_sample, key_noise = jax.random.split(k1)\n",
    "x_samples = jax.random.normal(key_sample, (n_samples, x_dim))\n",
    "y_samples = jnp.dot(x_samples, W) + b + 0.1 * jax.random.normal(key_noise, (n_samples, y_dim))\n",
    "print('x_shape:', x_samples.shape, '; y shape:', y_samples.shape)"
   ]
  },
  {
   "cell_type": "code",
   "execution_count": 22,
   "id": "5b6824dd-f7ac-4fd9-8827-d48e31a33091",
   "metadata": {},
   "outputs": [],
   "source": [
    "@jax.jit\n",
    "def mse(params, x_batches, y_batches):\n",
    "    def squared_error(x, y):\n",
    "        pred = model.apply(params, x)\n",
    "        return jnp.inner(y-pred, y-pred) / 2.0\n",
    "    return jnp.mean(jax.vmap(squared_error)(x_batches, y_batches), axis=0)"
   ]
  },
  {
   "cell_type": "code",
   "execution_count": 23,
   "id": "13737dc0-582e-4b01-a09e-9f68960c50d7",
   "metadata": {},
   "outputs": [
    {
     "name": "stdout",
     "output_type": "stream",
     "text": [
      "Loss for \"true\" W,b:  0.023639798\n",
      "Loss step 0:  35.343876\n",
      "Loss step 10:  0.5143469\n",
      "Loss step 20:  0.11384161\n",
      "Loss step 30:  0.03932675\n",
      "Loss step 40:  0.019916205\n",
      "Loss step 50:  0.014209128\n",
      "Loss step 60:  0.012425651\n",
      "Loss step 70:  0.0118503915\n",
      "Loss step 80:  0.011661774\n",
      "Loss step 90:  0.011599411\n",
      "Loss step 100:  0.011578695\n"
     ]
    }
   ],
   "source": [
    "learning_rate = 0.3\n",
    "print('Loss for \"true\" W,b: ', mse(true_params, x_samples, y_samples))\n",
    "loss_grad_fn = jax.value_and_grad(mse)\n",
    "\n",
    "@jax.jit\n",
    "def update_params(params, learning_rate, grads):\n",
    "    params = jax.tree_util.tree_map(\n",
    "        lambda p, g: p - learning_rate * g, params, grads)\n",
    "    return params\n",
    "\n",
    "for i in range(101):\n",
    "    loss_val, grads = loss_grad_fn(params, x_samples, y_samples)\n",
    "    params = update_params(params, learning_rate, grads)\n",
    "    if i % 10 == 0:\n",
    "        print(f'Loss step {i}: ', loss_val)\n",
    "        "
   ]
  },
  {
   "cell_type": "markdown",
   "id": "0f1eb2b7-eff3-4d9c-b3f7-82d6e18a8361",
   "metadata": {},
   "source": [
    "### Optimizing with Optax"
   ]
  },
  {
   "cell_type": "code",
   "execution_count": 24,
   "id": "56a19bea-d310-4501-8b42-1371ba416775",
   "metadata": {},
   "outputs": [],
   "source": [
    "import optax"
   ]
  },
  {
   "cell_type": "code",
   "execution_count": 25,
   "id": "d4d0cd86-39b1-490e-9410-6ad2cfaaa59d",
   "metadata": {},
   "outputs": [],
   "source": [
    "tx = optax.sgd(learning_rate=learning_rate)\n",
    "opt_state = tx.init(params)\n",
    "loss_grad_fn = jax.value_and_grad(mse)"
   ]
  },
  {
   "cell_type": "code",
   "execution_count": 27,
   "id": "d2efaeeb-dce7-4f38-828a-f5abfe4b251a",
   "metadata": {},
   "outputs": [
    {
     "name": "stdout",
     "output_type": "stream",
     "text": [
      "Loss step 0: 0.011577622964978218\n",
      "Loss step 10: 0.011571443639695644\n",
      "Loss step 20: 0.011569392867386341\n",
      "Loss step 30: 0.011568702757358551\n",
      "Loss step 40: 0.011568485759198666\n",
      "Loss step 50: 0.011568406596779823\n",
      "Loss step 60: 0.011568374000489712\n",
      "Loss step 70: 0.011568362824618816\n",
      "Loss step 80: 0.011568366549909115\n",
      "Loss step 90: 0.011568361893296242\n",
      "Loss step 100: 0.01156836748123169\n"
     ]
    }
   ],
   "source": [
    "for i in range(101):\n",
    "    loss_val, grads = loss_grad_fn(params, x_samples, y_samples)\n",
    "    updates, opt_state = tx.update(grads, opt_state)\n",
    "    params = optax.apply_updates(params, updates)\n",
    "    \n",
    "    if i % 10 == 0:\n",
    "        print(f'Loss step {i}: {loss_val}')"
   ]
  },
  {
   "cell_type": "markdown",
   "id": "4028d100-0dc1-4df7-bebd-b502ef7c4b2c",
   "metadata": {},
   "source": [
    "### Serializing the result"
   ]
  },
  {
   "cell_type": "code",
   "execution_count": 28,
   "id": "f3be4506-b6be-41c7-abee-b1a9892c76e4",
   "metadata": {},
   "outputs": [],
   "source": [
    "from flax import serialization"
   ]
  },
  {
   "cell_type": "code",
   "execution_count": 35,
   "id": "5f070961-0475-4939-b110-4fc8bec0330d",
   "metadata": {},
   "outputs": [
    {
     "name": "stdout",
     "output_type": "stream",
     "text": [
      "Dict output\n",
      "{'params': {'bias': DeviceArray([-1.4540141 , -2.0262318 ,  2.080659  ,  1.22018   ,\n",
      "             -0.99645686], dtype=float32), 'kernel': DeviceArray([[ 1.0106674 ,  0.19014898,  0.0453391 , -0.9272226 ,\n",
      "               0.3472035 ],\n",
      "             [ 1.7320229 ,  0.9901195 ,  1.1662225 ,  1.1027888 ,\n",
      "              -0.10575178],\n",
      "             [-1.2009125 ,  0.2883722 ,  1.4176373 ,  0.12073128,\n",
      "              -1.3132595 ],\n",
      "             [-1.1944962 , -0.18993425,  0.03379067,  1.3165945 ,\n",
      "               0.07995945],\n",
      "             [ 0.14102836,  1.3737915 , -1.3162129 ,  0.53401744,\n",
      "              -2.239645  ],\n",
      "             [ 0.56430227,  0.81360054,  0.31888163,  0.5359191 ,\n",
      "               0.9035165 ],\n",
      "             [-0.37948614,  1.7408308 ,  1.0788013 , -0.5041968 ,\n",
      "               0.92868567],\n",
      "             [ 0.970138  , -1.3158677 ,  0.33630812,  0.80941117,\n",
      "              -1.2024575 ],\n",
      "             [ 1.019825  , -0.61982715,  1.0822719 , -1.8385578 ,\n",
      "              -0.45790663],\n",
      "             [-0.6438441 ,  0.45648792, -1.1331053 , -0.6855687 ,\n",
      "               0.17010677]], dtype=float32)}}\n",
      "Bytes output\n",
      "b'\\x81\\xa6params\\x82\\xa4bias\\xc7!\\x01\\x93\\x91\\x05\\xa7float32\\xc4\\x14\"\\x1d\\xba\\xbf\\xc8\\xad\\x01\\xc0\\x84)\\x05@\\xdc.\\x9c?\\xcc\\x17\\x7f\\xbf\\xa6kernel\\xc7\\xd6\\x01\\x93\\x92\\n\\x05\\xa7float32\\xc4\\xc8\\x8d]\\x81?j\\xb6B>~\\xb59=v^m\\xbf\\xa8\\xc4\\xb1>\\xed\\xb2\\xdd?yx}?\\xc7F\\x95?/(\\x8d?c\\x94\\xd8\\xbd\\x80\\xb7\\x99\\xbf\\x85\\xa5\\x93>$u\\xb5?\\xf6A\\xf7=\\xe3\\x18\\xa8\\xbf@\\xe5\\x98\\xbf ~B\\xbe\\x16h\\n=+\\x86\\xa8?\\xc8\\xc1\\xa3=\\xbdi\\x10>f\\xd8\\xaf?\\xaay\\xa8\\xbf^\\xb5\\x08?XV\\x0f\\xc0\\x1dv\\x10? HP?tD\\xa3>\\xfe1\\t?\\xdbLg?\\x02L\\xc2\\xbe\\x8b\\xd3\\xde?)\\x16\\x8a?\\x0b\\x13\\x01\\xbfX\\xbem?\\xf7Zx?Zn\\xa8\\xbf\\x940\\xac>\\x925O?!\\xea\\x99\\xbf\\xa0\\x89\\x82?\\xfe\\xac\\x1e\\xbf\\xe3\\x87\\x8a?\\xddU\\xeb\\xbf\\xbdr\\xea\\xbe\\xf8\\xd2$\\xbf\\xc9\\xb8\\xe9>\\x98\\t\\x91\\xbfn\\x81/\\xbfx0.>'\n"
     ]
    }
   ],
   "source": [
    "bytes_output = serialization.to_bytes(params)\n",
    "dict_output = serialization.to_state_dict(params)\n",
    "\n",
    "print('Dict output')\n",
    "print(dict_output)\n",
    "\n",
    "print('Bytes output')\n",
    "print(bytes_output)"
   ]
  },
  {
   "cell_type": "code",
   "execution_count": 32,
   "id": "dbf5cdd3-67ea-4c39-9b5c-3e332a518dc6",
   "metadata": {},
   "outputs": [
    {
     "name": "stdout",
     "output_type": "stream",
     "text": [
      "bias [-1.4540141  -2.0262318   2.080659    1.22018    -0.99645686]\n",
      "kernel [[ 1.0106674   0.19014898  0.0453391  -0.9272226   0.3472035 ]\n",
      " [ 1.7320229   0.9901195   1.1662225   1.1027888  -0.10575178]\n",
      " [-1.2009125   0.2883722   1.4176373   0.12073128 -1.3132595 ]\n",
      " [-1.1944962  -0.18993425  0.03379067  1.3165945   0.07995945]\n",
      " [ 0.14102836  1.3737915  -1.3162129   0.53401744 -2.239645  ]\n",
      " [ 0.56430227  0.81360054  0.31888163  0.5359191   0.9035165 ]\n",
      " [-0.37948614  1.7408308   1.0788013  -0.5041968   0.92868567]\n",
      " [ 0.970138   -1.3158677   0.33630812  0.80941117 -1.2024575 ]\n",
      " [ 1.019825   -0.61982715  1.0822719  -1.8385578  -0.45790663]\n",
      " [-0.6438441   0.45648792 -1.1331053  -0.6855687   0.17010677]]\n"
     ]
    }
   ],
   "source": [
    "for k, v in dict_output['params'].items():\n",
    "    print(k, v)"
   ]
  },
  {
   "cell_type": "code",
   "execution_count": 33,
   "id": "1314270c-31b7-420e-9f80-24044e7048e7",
   "metadata": {},
   "outputs": [
    {
     "data": {
      "text/plain": [
       "dict"
      ]
     },
     "execution_count": 33,
     "metadata": {},
     "output_type": "execute_result"
    }
   ],
   "source": [
    "type(dict_output)"
   ]
  },
  {
   "cell_type": "code",
   "execution_count": 36,
   "id": "c291d00f-874d-445f-bcbb-1dcd450700d1",
   "metadata": {},
   "outputs": [
    {
     "data": {
      "text/plain": [
       "FrozenDict({\n",
       "    params: {\n",
       "        bias: array([-1.4540141 , -2.0262318 ,  2.080659  ,  1.22018   , -0.99645686],\n",
       "              dtype=float32),\n",
       "        kernel: array([[ 1.0106674 ,  0.19014898,  0.0453391 , -0.9272226 ,  0.3472035 ],\n",
       "               [ 1.7320229 ,  0.9901195 ,  1.1662225 ,  1.1027888 , -0.10575178],\n",
       "               [-1.2009125 ,  0.2883722 ,  1.4176373 ,  0.12073128, -1.3132595 ],\n",
       "               [-1.1944962 , -0.18993425,  0.03379067,  1.3165945 ,  0.07995945],\n",
       "               [ 0.14102836,  1.3737915 , -1.3162129 ,  0.53401744, -2.239645  ],\n",
       "               [ 0.56430227,  0.81360054,  0.31888163,  0.5359191 ,  0.9035165 ],\n",
       "               [-0.37948614,  1.7408308 ,  1.0788013 , -0.5041968 ,  0.92868567],\n",
       "               [ 0.970138  , -1.3158677 ,  0.33630812,  0.80941117, -1.2024575 ],\n",
       "               [ 1.019825  , -0.61982715,  1.0822719 , -1.8385578 , -0.45790663],\n",
       "               [-0.6438441 ,  0.45648792, -1.1331053 , -0.6855687 ,  0.17010677]],\n",
       "              dtype=float32),\n",
       "    },\n",
       "})"
      ]
     },
     "execution_count": 36,
     "metadata": {},
     "output_type": "execute_result"
    }
   ],
   "source": [
    "serialization.from_bytes(params, bytes_output)"
   ]
  },
  {
   "cell_type": "markdown",
   "id": "3a1be858-375f-416e-a451-72df7b04231e",
   "metadata": {},
   "source": [
    "### Define your own models"
   ]
  },
  {
   "cell_type": "code",
   "execution_count": 39,
   "id": "1e312a05-ec4b-42b4-8882-d0ed9800c8f5",
   "metadata": {},
   "outputs": [
    {
     "name": "stdout",
     "output_type": "stream",
     "text": [
      "initialized parameter shape:\n",
      " {'params': {'layers_0': {'bias': (3,), 'kernel': (4, 3)}, 'layers_1': {'bias': (4,), 'kernel': (3, 4)}, 'layers_2': {'bias': (5,), 'kernel': (4, 5)}}}\n",
      "output:\n",
      " [[ 0.          0.          0.          0.          0.        ]\n",
      " [ 0.00723787 -0.00810345 -0.0255093   0.02151708 -0.01261237]\n",
      " [ 0.          0.          0.          0.          0.        ]\n",
      " [ 0.          0.          0.          0.          0.        ]]\n"
     ]
    }
   ],
   "source": [
    "class ExplicitMLT(nn.Module):\n",
    "    features: Sequence[int]\n",
    "    \n",
    "    def setup(self):\n",
    "        self.layers = [nn.Dense(feat) for feat in self.features]\n",
    "        \n",
    "    def __call__(self, inputs):\n",
    "        x = inputs\n",
    "        for i, lyr in enumerate(self.layers):\n",
    "            x = lyr(x)\n",
    "            if i != len(self.layers) - 1:\n",
    "                x = nn.relu(x)\n",
    "        return x\n",
    "    \n",
    "key1, key2 = jax.random.split(jax.random.PRNGKey(0), 2)\n",
    "x = jax.random.uniform(key1, (4, 4))\n",
    "\n",
    "model = ExplicitMLT(features=[3, 4, 5])\n",
    "params = model.init(key2, x)\n",
    "y = model.apply(params, x)\n",
    "\n",
    "print('initialized parameter shape:\\n', jax.tree_util.tree_map(jnp.shape, unfreeze(params)))\n",
    "print('output:\\n', y)"
   ]
  },
  {
   "cell_type": "code",
   "execution_count": 40,
   "id": "8c4feac3-c8ae-4a82-a9de-d0d4712c8d40",
   "metadata": {},
   "outputs": [
    {
     "name": "stdout",
     "output_type": "stream",
     "text": [
      "\"ExplicitMLT\" object has no attribute \"layers\"\n"
     ]
    }
   ],
   "source": [
    "try:\n",
    "    y = model(x)\n",
    "except AttributeError as e:\n",
    "    print(e)"
   ]
  },
  {
   "cell_type": "code",
   "execution_count": 43,
   "id": "84fe7d68-0e16-4203-af27-11226840f300",
   "metadata": {},
   "outputs": [
    {
     "name": "stdout",
     "output_type": "stream",
     "text": [
      "initialized parameter shape:\n",
      " {'params': {'layer_0': {'bias': (3,), 'kernel': (4, 3)}, 'layer_1': {'bias': (4,), 'kernel': (3, 4)}, 'layer_2': {'bias': (5,), 'kernel': (4, 5)}}}\n",
      "output:\n",
      " [[-0.48866612  0.5616314  -0.7335918  -0.7830883   0.00913267]\n",
      " [-0.25978276  0.31105274 -0.3998276  -0.4330669  -0.00686361]\n",
      " [-0.32860482  0.40832612 -0.56914747 -0.5940301   0.01978956]\n",
      " [-0.0976381   0.40497297 -1.0262899  -0.8247814   0.1343164 ]]\n"
     ]
    }
   ],
   "source": [
    "class SimpleMLP(nn.Module):\n",
    "    features: Sequence[int]\n",
    "    \n",
    "    @nn.compact\n",
    "    def __call__(self, inputs):\n",
    "        x = inputs\n",
    "        for i, feat in enumerate(self.features):\n",
    "            x = nn.Dense(feat, name=f'layer_{i}')(x)\n",
    "            if i != len(self.features) - 1:\n",
    "                x = nn.relu(x)\n",
    "                \n",
    "        return x\n",
    "    \n",
    "key1, key2 = jax.random.split(jax.random.PRNGKey(0), 2)\n",
    "x = jax.random.uniform(key1, (4, 4))\n",
    "\n",
    "model = SimpleMLP(features=[3, 4, 5])\n",
    "params = model.init(key2, x)\n",
    "y = model.apply(params, x)\n",
    "\n",
    "print('initialized parameter shape:\\n', jax.tree_util.tree_map(jnp.shape, unfreeze(params)))\n",
    "print('output:\\n', y)"
   ]
  },
  {
   "cell_type": "code",
   "execution_count": null,
   "id": "2a022f3b-46a1-452f-9e50-b0843decb45e",
   "metadata": {},
   "outputs": [],
   "source": []
  }
 ],
 "metadata": {
  "kernelspec": {
   "display_name": "Python 3 (ipykernel)",
   "language": "python",
   "name": "python3"
  },
  "language_info": {
   "codemirror_mode": {
    "name": "ipython",
    "version": 3
   },
   "file_extension": ".py",
   "mimetype": "text/x-python",
   "name": "python",
   "nbconvert_exporter": "python",
   "pygments_lexer": "ipython3",
   "version": "3.9.13"
  }
 },
 "nbformat": 4,
 "nbformat_minor": 5
}
